{
 "cells": [
  {
   "cell_type": "markdown",
   "metadata": {},
   "source": [
    "**Name:** YANG Yongze\n",
    "\n",
    "**EID:** 58162280\n",
    "\n",
    "**Kaggle Team Name:** YANG Yongze"
   ]
  },
  {
   "cell_type": "markdown",
   "metadata": {},
   "source": [
    "# CS5489 - Assignment 1 - SMS Classification"
   ]
  },
  {
   "cell_type": "markdown",
   "metadata": {},
   "source": [
    "## Final submission\n",
    "In this file, put the code that generates your final Kaggle submission. It will be used to verify that your Kaggle submission is reproducible."
   ]
  },
  {
   "cell_type": "code",
   "execution_count": 1,
   "metadata": {
    "ExecuteTime": {
     "end_time": "2023-10-09T12:19:03.069009800Z",
     "start_time": "2023-10-09T12:19:01.558576300Z"
    }
   },
   "outputs": [],
   "source": [
    "import numpy as np\n",
    "%matplotlib inline\n",
    "import matplotlib_inline   # setup output image format\n",
    "matplotlib_inline.backend_inline.set_matplotlib_formats('svg')\n",
    "import matplotlib.pyplot as plt\n",
    "import matplotlib\n",
    "from numpy import *\n",
    "from sklearn import *\n",
    "from scipy import stats\n",
    "import csv\n",
    "from sklearn.feature_extraction.text import CountVectorizer\n",
    "from sklearn.model_selection import train_test_split\n",
    "random.seed(100)"
   ]
  },
  {
   "cell_type": "code",
   "execution_count": 2,
   "metadata": {
    "ExecuteTime": {
     "end_time": "2023-10-09T12:19:06.331270800Z",
     "start_time": "2023-10-09T12:19:06.321768300Z"
    }
   },
   "outputs": [],
   "source": [
    "def read_text_data(fname):\n",
    "    txtdata = []\n",
    "    classes = []\n",
    "    with open(fname, 'r', encoding='utf-8') as csvfile:\n",
    "        reader = csv.reader(csvfile, delimiter=',', quotechar='\"')\n",
    "        for row in reader:\n",
    "            # get the text\n",
    "            txtdata.append(row[0])\n",
    "            # get the class (convert to integer)\n",
    "            if len(row)>1:\n",
    "                classes.append(int(row[1]))\n",
    "        \n",
    "    return (txtdata, classes)\n",
    "\n",
    "def write_csv_kaggle_sub(fname, Y):\n",
    "    # fname = file name\n",
    "    # Y is a list/array with class entries\n",
    "    \n",
    "    # header\n",
    "    tmp = [['Id', 'Prediction']]\n",
    "    \n",
    "    # add ID numbers for each Y\n",
    "    for (i,y) in enumerate(Y):\n",
    "        tmp2 = [(i+1), y]\n",
    "        tmp.append(tmp2)\n",
    "        \n",
    "    # write CSV file\n",
    "    with open(fname, 'w') as f:\n",
    "        writer = csv.writer(f)\n",
    "        writer.writerows(tmp)"
   ]
  },
  {
   "cell_type": "code",
   "execution_count": 3,
   "metadata": {
    "ExecuteTime": {
     "end_time": "2023-10-09T12:19:08.455920900Z",
     "start_time": "2023-10-09T12:19:08.445412600Z"
    }
   },
   "outputs": [
    {
     "name": "stdout",
     "output_type": "stream",
     "text": [
      "2985\n",
      "2986\n"
     ]
    }
   ],
   "source": [
    "# load the data\n",
    "(traintxt, trainY) = read_text_data(\"smishing_train.txt\")\n",
    "(testtxt, _)       = read_text_data(\"smishing_test.txt\")\n",
    "\n",
    "print(len(traintxt))\n",
    "print(len(testtxt))"
   ]
  },
  {
   "cell_type": "raw",
   "source": [
    "First, let's see how do the labels looks like."
   ],
   "metadata": {
    "collapsed": false
   }
  },
  {
   "cell_type": "code",
   "execution_count": 4,
   "outputs": [
    {
     "name": "stdout",
     "output_type": "stream",
     "text": [
      "Counter({0: 2454, 2: 297, 1: 234})\n"
     ]
    }
   ],
   "source": [
    "import collections\n",
    "\n",
    "print(collections.Counter(trainY))"
   ],
   "metadata": {
    "collapsed": false,
    "ExecuteTime": {
     "end_time": "2023-10-09T12:19:10.422902300Z",
     "start_time": "2023-10-09T12:19:10.420674500Z"
    }
   }
  },
  {
   "cell_type": "markdown",
   "source": [
    "Obviously, the train data is imbalanced data."
   ],
   "metadata": {
    "collapsed": false
   }
  },
  {
   "cell_type": "markdown",
   "source": [
    "## Data Prepossessing\n",
    "We can do some data prepossessing steps as below:\n",
    "1. Delete non-numeric and alphabetic characters.\n",
    "2. Delete stop words. Remove words that do not contribute much to the meaning of the text.\n",
    "3. Lemmatization. Converting words to their prototypes may reduce the number of features.\n",
    "4. Convert into lower case. Treating both case words as the same word may reduce the number of features."
   ],
   "metadata": {
    "collapsed": false
   }
  },
  {
   "cell_type": "code",
   "execution_count": 7,
   "metadata": {
    "ExecuteTime": {
     "end_time": "2023-10-09T12:19:44.589576700Z",
     "start_time": "2023-10-09T12:19:42.420846Z"
    }
   },
   "outputs": [
    {
     "name": "stderr",
     "output_type": "stream",
     "text": [
      "[nltk_data] Downloading package stopwords to\n",
      "[nltk_data]     C:\\Users\\yyz\\AppData\\Roaming\\nltk_data...\n",
      "[nltk_data]   Package stopwords is already up-to-date!\n",
      "[nltk_data] Downloading package punkt to\n",
      "[nltk_data]     C:\\Users\\yyz\\AppData\\Roaming\\nltk_data...\n",
      "[nltk_data]   Package punkt is already up-to-date!\n",
      "[nltk_data] Downloading package wordnet to\n",
      "[nltk_data]     C:\\Users\\yyz\\AppData\\Roaming\\nltk_data...\n",
      "[nltk_data]   Package wordnet is already up-to-date!\n",
      "[nltk_data] Downloading package omw-1.4 to\n",
      "[nltk_data]     C:\\Users\\yyz\\AppData\\Roaming\\nltk_data...\n",
      "[nltk_data]   Package omw-1.4 is already up-to-date!\n"
     ]
    },
    {
     "name": "stdout",
     "output_type": "stream",
     "text": [
      "Preprocessing finished.\n"
     ]
    }
   ],
   "source": [
    "from nltk.corpus import stopwords\n",
    "from nltk import word_tokenize, PorterStemmer, SnowballStemmer, WordNetLemmatizer\n",
    "import re\n",
    "import nltk\n",
    "\n",
    "# Init stop words and stemmer\n",
    "nltk.download('stopwords')\n",
    "nltk.download('punkt')\n",
    "nltk.download('wordnet')\n",
    "nltk.download('omw-1.4')\n",
    "stop_words = set(stopwords.words('english'))\n",
    "lemmatizer = WordNetLemmatizer()\n",
    "\n",
    "def preprocess(str):\n",
    "    \"\"\"\n",
    "    Preprocess text data by removing non-alphanumeric characters & stop word and lemmatizing\n",
    "\n",
    "    :param str: input string\n",
    "    :return: preprocessed string\n",
    "    \"\"\"\n",
    "\n",
    "    # Remove non-alphanumeric characters\n",
    "    string_only_alphanumeric = re.sub(r'[^a-zA-Z0-9]', ' ', str)\n",
    "    # Tokenize the string into individual words\n",
    "    words = word_tokenize(string_only_alphanumeric)\n",
    "    new_str = ''\n",
    "\n",
    "    for word in words:\n",
    "        if not word.isdigit():\n",
    "            # Remove stop word\n",
    "            if word not in stop_words:\n",
    "                # lemmatization and convert to lower case\n",
    "                stemmed_word = lemmatizer.lemmatize(word)\n",
    "                lower_word = stemmed_word.lower()\n",
    "                if new_str == '':\n",
    "                    new_str += lower_word\n",
    "                else:\n",
    "                    new_str = new_str + ' ' + lower_word\n",
    "    return new_str\n",
    "\n",
    "# test = 'En chikku nange bakra msg kalstiya..then had tea/coffee?'\n",
    "# print(preprocess(test))\n",
    "\n",
    "train_txt_preprocessed = [preprocess(s) for s in traintxt]\n",
    "test_txt_preprocessed = [preprocess(s) for s in testtxt]\n",
    "print('Preprocessing finished.')"
   ]
  },
  {
   "cell_type": "markdown",
   "source": [
    "## Feature Representation\n",
    "\n",
    "### Using TF-IDF Model\n",
    "\n",
    "Use Count Vectorizer to convert text into vectors by counting how often each word appears in the text. Subsequently, the TF-IDF value of each word is calculated.\n",
    "\n",
    "After the above feature extraction, a portion of the data from the training set is divided and used to perform verification of accuracy."
   ],
   "metadata": {
    "collapsed": false
   }
  },
  {
   "cell_type": "code",
   "execution_count": 8,
   "metadata": {
    "ExecuteTime": {
     "end_time": "2023-10-09T12:19:56.542815700Z",
     "start_time": "2023-10-09T12:19:56.481393800Z"
    }
   },
   "outputs": [],
   "source": [
    "# Count Vectorizer\n",
    "vectorizer = CountVectorizer(stop_words='english', max_features=700)\n",
    "train_features = vectorizer.fit_transform(train_txt_preprocessed)\n",
    "test_features = vectorizer.fit_transform(test_txt_preprocessed)\n",
    "\n",
    "# Calculate TF-IDF value\n",
    "tf_trans = feature_extraction.text.TfidfTransformer(use_idf=True, norm='l1')\n",
    "trainX = tf_trans.fit_transform(train_features)\n",
    "test_X = tf_trans.transform(test_features)\n",
    "\n",
    "# Split validation data\n",
    "X_train, X_valid, y_train, y_valid = train_test_split(trainX, trainY, stratify=trainY, test_size=0.65, random_state=0)\n"
   ]
  },
  {
   "cell_type": "markdown",
   "source": [
    "What if we try something new representation form?\n",
    "### Using Word2Vec\n",
    "**Word2Vec** \\[1\\] may be a good choice for word embedding. But first, we need to slightly modify the preprocess function to get a word list instead of a string.\n",
    "\n",
    "\\[1\\] Mikolov, T., Chen, K., Corrado, G., & Dean, J. (2013). Efficient Estimation of Word Representations in Vector Space. arXiv preprint arXiv:1301.3781."
   ],
   "metadata": {
    "collapsed": false
   }
  },
  {
   "cell_type": "code",
   "execution_count": 46,
   "outputs": [
    {
     "name": "stdout",
     "output_type": "stream",
     "text": [
      "['en', 'chikku', 'nange', 'bakra', 'msg', 'kalstiya', 'tea', 'coffee']\n"
     ]
    }
   ],
   "source": [
    "def preprocess_list(str):\n",
    "    \"\"\"\n",
    "    Preprocess text data by removing non-alphanumeric characters & stop word and lemmatizing\n",
    "\n",
    "    :param str: input string\n",
    "    :return: preprocessed word list\n",
    "    \"\"\"\n",
    "\n",
    "    # Remove non-alphanumeric characters\n",
    "    string_only_alphanumeric = re.sub(r'[^a-zA-Z0-9]', ' ', str)\n",
    "    # Tokenize the string into individual words\n",
    "    words = word_tokenize(string_only_alphanumeric)\n",
    "    new_str = []\n",
    "\n",
    "    for word in words:\n",
    "        if not word.isdigit():\n",
    "            # Remove stop word\n",
    "            if word not in stop_words:\n",
    "                # lemmatization and convert to lower case\n",
    "                stemmed_word = lemmatizer.lemmatize(word)\n",
    "                lower_word = stemmed_word.lower()\n",
    "                new_str.append(lower_word)\n",
    "    return new_str\n",
    "\n",
    "test = 'En chikku nange bakra msg kalstiya..then had tea/coffee?'\n",
    "print(preprocess_list(test))"
   ],
   "metadata": {
    "collapsed": false,
    "ExecuteTime": {
     "end_time": "2023-10-09T11:05:43.462305200Z",
     "start_time": "2023-10-09T11:05:43.457224700Z"
    }
   }
  },
  {
   "cell_type": "markdown",
   "source": [
    "Next, use Grid Search to select the best parameters using BernoulliNB's balanced accuracy score as the basis of evaluation"
   ],
   "metadata": {
    "collapsed": false
   }
  },
  {
   "cell_type": "code",
   "execution_count": 49,
   "outputs": [
    {
     "name": "stdout",
     "output_type": "stream",
     "text": [
      "Best score: 0.5590510221391279\n",
      "Best params: {'min_count': 1, 'vector_size': 500, 'window': 4}\n"
     ]
    }
   ],
   "source": [
    "from sklearn.model_selection import ParameterGrid\n",
    "from gensim.models import Word2Vec\n",
    "\n",
    "train_word_list = [preprocess_list(s) for s in traintxt]\n",
    "\n",
    "param_grid = {\n",
    "    'vector_size': [50, 75, 100, 125, 150, 200, 500],\n",
    "    'window': [2, 3, 4, 5, 7, 10],\n",
    "    'min_count': [1, 2, 3]\n",
    "}\n",
    "best_score = 0\n",
    "best_params = None\n",
    "\n",
    "model_bnb_w2v = naive_bayes.BernoulliNB(alpha=1e-10)\n",
    "\n",
    "# Grid Search for Parameters\n",
    "for params in ParameterGrid(param_grid):\n",
    "    model_w2v = Word2Vec(train_word_list, **params)\n",
    "    X = []\n",
    "    # Build word2Vec features\n",
    "    for sentence in train_word_list:\n",
    "        sentence_vector = []\n",
    "        for word in sentence:\n",
    "            # if the word is in the wv list\n",
    "            if word in model_w2v.wv:\n",
    "                word_vec = model_w2v.wv[word]\n",
    "                sentence_vector.append(word_vec)\n",
    "        if len(sentence_vector) > 0:\n",
    "            # can be presented as a vector\n",
    "            average_vec = np.mean(sentence_vector,axis=0)\n",
    "        else:\n",
    "            # vector of 0 as default\n",
    "            average_vec = np.zeros(params['vector_size'])\n",
    "        X.append(average_vec)\n",
    "\n",
    "    # Split data\n",
    "    X_train, X_valid, y_train, y_valid = train_test_split(X, trainY, stratify=trainY, test_size=0.7, random_state=0)\n",
    "\n",
    "    # USe bnb to train and predict\n",
    "    model_bnb_w2v.fit(X_train,y_train)\n",
    "    y_pred_bnb = model_bnb_w2v.predict(X_valid)\n",
    "\n",
    "    score = metrics.balanced_accuracy_score(y_valid, y_pred_bnb)\n",
    "\n",
    "    # Get the best balanced accuracy score\n",
    "    if score > best_score:\n",
    "        best_score = score\n",
    "        best_params = params\n",
    "\n",
    "print(f'Best score: {best_score}')\n",
    "print(f'Best params: {best_params}')"
   ],
   "metadata": {
    "collapsed": false,
    "ExecuteTime": {
     "end_time": "2023-10-09T11:16:30.301952600Z",
     "start_time": "2023-10-09T11:15:56.550771400Z"
    }
   }
  },
  {
   "cell_type": "markdown",
   "source": [
    "The result does not look good. I think this may due to the following reasons:\n",
    "\n",
    "1. SMS text is relatively short, some SMS text may only contain small amount of words. Therefore, the Word2Vec may not be good at capturing the meaning of the content.\n",
    "2. Some SMS text contain misspelled words, unusual words and some abbreviations. These words might be ignored when using Word2Vec to generate vectors.\n",
    "3. When generating vectors, some information might be lost.\n",
    "\n",
    "Therefore, using TF-IDF might be a better choice.\n"
   ],
   "metadata": {
    "collapsed": false
   }
  },
  {
   "cell_type": "markdown",
   "source": [
    "## Training\n",
    "Next, use **Multinomial Naive Bayes Classifier**, **Multinomial Naive Bayes Classifier**, **One-vs-Rest Classifier**, **Random Forest Classifier**, **Support Vector Machine Classifier**, **Logistic Regression Classifier**, **K Nearest Neighbours Classifier**, **Decision Trees Classifier** and other machine learning methods for training and prediction, and the *BALANCED ACCURACY* of the predicted values is verified using a previously divided validation set.\n",
    "This step is only used to do preliminary comparisons, and the parameters are used by default wherever possible."
   ],
   "metadata": {
    "collapsed": false
   }
  },
  {
   "cell_type": "code",
   "execution_count": 112,
   "outputs": [
    {
     "name": "stdout",
     "output_type": "stream",
     "text": [
      "[MNB] Balanced_accuracy_score: 0.689300972638851\n",
      "[BNB] Balanced_accuracy_score: 0.7962755550361221\n",
      "[OVR] Balanced_accuracy_score: 0.6739252059336597\n",
      "[RF] Balanced_accuracy_score: 0.7357150432211791\n",
      "[SVM] Balanced_accuracy_score: 0.7686584769349972\n",
      "[LR] Balanced_accuracy_score: 0.3387716917509664\n",
      "[KNN] Balanced_accuracy_score: 0.4144671912942979\n",
      "[DT] Balanced_accuracy_score: 0.7362777626276399\n"
     ]
    }
   ],
   "source": [
    "# Multinomial Naive Bayes Classifier\n",
    "model_mnb = naive_bayes.MultinomialNB(alpha=0.001)\n",
    "model_mnb.fit(X_train,y_train)\n",
    "y_pred_mnb = model_mnb.predict(X_valid)\n",
    "acc_mnb = metrics.balanced_accuracy_score(y_valid,y_pred_mnb)\n",
    "print('[MNB] Balanced_accuracy_score:', acc_mnb)\n",
    "\n",
    "# Bernoulli Naive Bayes Classifier\n",
    "model_bnb = naive_bayes.BernoulliNB(alpha=0.001)\n",
    "model_bnb.fit(X_train,y_train)\n",
    "y_pred_bnb = model_bnb.predict(X_valid)\n",
    "acc_bnb = metrics.balanced_accuracy_score(y_valid,y_pred_bnb)\n",
    "print('[BNB] Balanced_accuracy_score:', acc_bnb)\n",
    "\n",
    "# One Vs Rest Classifier\n",
    "model_ovr = multiclass.OneVsRestClassifier(ensemble.GradientBoostingClassifier())\n",
    "model_ovr.fit(X_train,y_train)\n",
    "y_pred_ovr = model_ovr.predict(X_valid)\n",
    "acc_ovr = metrics.balanced_accuracy_score(y_valid,y_pred_ovr)\n",
    "print('[OVR] Balanced_accuracy_score:', acc_ovr)\n",
    "\n",
    "# Random Forest Classifier\n",
    "model_rf = ensemble.RandomForestClassifier()\n",
    "model_rf.fit(X_train,y_train)\n",
    "y_pred_rf = model_rf.predict(X_valid)\n",
    "acc_rf = metrics.balanced_accuracy_score(y_valid,y_pred_rf)\n",
    "print('[RF] Balanced_accuracy_score:', acc_rf)\n",
    "\n",
    "# Support Vector Machine Classifier\n",
    "model_svm = svm.SVC(class_weight='balanced')\n",
    "model_svm.fit(X_train,y_train)\n",
    "y_pred_svm = model_svm.predict(X_valid)\n",
    "acc_svm = metrics.balanced_accuracy_score(y_valid,y_pred_svm)\n",
    "print('[SVM] Balanced_accuracy_score:', acc_svm)\n",
    "\n",
    "# Logistic Regression Classifier\n",
    "model_lr = linear_model.LogisticRegression()\n",
    "model_lr.fit(X_train, y_train)\n",
    "y_pred_lr = model_lr.predict(X_valid)\n",
    "acc_lr = metrics.balanced_accuracy_score(y_valid, y_pred_lr)\n",
    "print('[LR] Balanced_accuracy_score:', acc_lr)\n",
    "\n",
    "# K Neighbors Classifier\n",
    "model_knn = neighbors.KNeighborsClassifier()\n",
    "model_knn.fit(X_train, y_train)\n",
    "y_pred_knn = model_knn.predict(X_valid)\n",
    "acc_knn = metrics.balanced_accuracy_score(y_valid, y_pred_knn)\n",
    "print('[KNN] Balanced_accuracy_score:', acc_knn)\n",
    "\n",
    "# Decision Tree Classifier\n",
    "model_dt = tree.DecisionTreeClassifier()\n",
    "model_dt.fit(X_train, y_train)\n",
    "y_pred_dt = model_dt.predict(X_valid)\n",
    "acc_dt = metrics.balanced_accuracy_score(y_valid, y_pred_dt)\n",
    "print('[DT] Balanced_accuracy_score:', acc_dt)"
   ],
   "metadata": {
    "collapsed": false,
    "ExecuteTime": {
     "end_time": "2023-10-08T20:22:26.484202600Z",
     "start_time": "2023-10-08T20:22:25.754924100Z"
    }
   }
  },
  {
   "cell_type": "markdown",
   "source": [
    "- According to the results, Bernoulli Simple Bayes has the best classification and is higher than Polynomial Simple Bayes. This may be due to the fact that the features are independent of each other and the distribution is more in line with the Bernoulli distribution.\n",
    "\n",
    "- Also, the Support Vector Machine result looks good. I think the SVM is a robust classifier and is suitable for text classification tasks. It can handle imbalanced data.\n",
    "\n",
    "- Logistic Regression Classifier and K Neighbors Classifier perform relatively worst. This may be due to the poor ability of these algorithms for text processing and the high dimensionality of textual data features that do not satisfy linear separability.\n"
   ],
   "metadata": {
    "collapsed": false
   }
  },
  {
   "cell_type": "markdown",
   "source": [
    "## Using Bernoulli Naive Bayes Classifier\n",
    "Therefore, it is a good idea to use Bernoulli's plain Bayesian classifier. Next try to search for the best parameters.\n",
    "\n",
    "### Find the best alpha value\n",
    "\n",
    "What is the best `alpha` value?"
   ],
   "metadata": {
    "collapsed": false
   }
  },
  {
   "cell_type": "code",
   "execution_count": 113,
   "outputs": [
    {
     "name": "stdout",
     "output_type": "stream",
     "text": [
      "[BNB] Best Balanced_accuracy_score: 0.8094734894230395\n",
      "[BNB] Best alpha: 0.1\n"
     ]
    }
   ],
   "source": [
    "alphas = logspace(-2,1,100)\n",
    "balanced_accuracy_scores = []\n",
    "for alpha in alphas:\n",
    "    # Bernoulli Naive Bayes Classifier\n",
    "    model_bnb = naive_bayes.BernoulliNB(alpha=alpha)\n",
    "    model_bnb.fit(X_train,y_train)\n",
    "    y_pred_bnb = model_bnb.predict(X_valid)\n",
    "    acc_bnb = metrics.balanced_accuracy_score(y_valid,y_pred_bnb)\n",
    "    balanced_accuracy_scores.append(acc_bnb)\n",
    "max_index = argmax(balanced_accuracy_scores)\n",
    "best_baccuracy_score = balanced_accuracy_scores[max_index]\n",
    "best_alpha = alphas[max_index]\n",
    "\n",
    "print('[BNB] Best Balanced_accuracy_score:', best_baccuracy_score)\n",
    "print('[BNB] Best alpha:', alphas[max_index])\n"
   ],
   "metadata": {
    "collapsed": false,
    "ExecuteTime": {
     "end_time": "2023-10-08T20:22:26.612728100Z",
     "start_time": "2023-10-08T20:22:26.486202400Z"
    }
   }
  },
  {
   "cell_type": "markdown",
   "source": [
    "Now we know the best `alpha` is 0.1. The figure of `alpha` vs Balanced Accuracy Score is shown below."
   ],
   "metadata": {
    "collapsed": false
   }
  },
  {
   "cell_type": "code",
   "execution_count": 114,
   "outputs": [
    {
     "data": {
      "text/plain": "<Figure size 720x432 with 1 Axes>",
      "image/svg+xml": "<?xml version=\"1.0\" encoding=\"utf-8\" standalone=\"no\"?>\n<!DOCTYPE svg PUBLIC \"-//W3C//DTD SVG 1.1//EN\"\n  \"http://www.w3.org/Graphics/SVG/1.1/DTD/svg11.dtd\">\n<svg xmlns:xlink=\"http://www.w3.org/1999/xlink\" width=\"608.98125pt\" height=\"386.034375pt\" viewBox=\"0 0 608.98125 386.034375\" xmlns=\"http://www.w3.org/2000/svg\" version=\"1.1\">\n <metadata>\n  <rdf:RDF xmlns:dc=\"http://purl.org/dc/elements/1.1/\" xmlns:cc=\"http://creativecommons.org/ns#\" xmlns:rdf=\"http://www.w3.org/1999/02/22-rdf-syntax-ns#\">\n   <cc:Work>\n    <dc:type rdf:resource=\"http://purl.org/dc/dcmitype/StillImage\"/>\n    <dc:date>2023-10-09T04:22:26.841749</dc:date>\n    <dc:format>image/svg+xml</dc:format>\n    <dc:creator>\n     <cc:Agent>\n      <dc:title>Matplotlib v3.5.1, https://matplotlib.org/</dc:title>\n     </cc:Agent>\n    </dc:creator>\n   </cc:Work>\n  </rdf:RDF>\n </metadata>\n <defs>\n  <style type=\"text/css\">*{stroke-linejoin: round; stroke-linecap: butt}</style>\n </defs>\n <g id=\"figure_1\">\n  <g id=\"patch_1\">\n   <path d=\"M 0 386.034375 \nL 608.98125 386.034375 \nL 608.98125 0 \nL 0 0 \nL 0 386.034375 \nz\n\" style=\"fill: none\"/>\n  </g>\n  <g id=\"axes_1\">\n   <g id=\"patch_2\">\n    <path d=\"M 43.78125 348.478125 \nL 601.78125 348.478125 \nL 601.78125 22.318125 \nL 43.78125 22.318125 \nz\n\" style=\"fill: #ffffff\"/>\n   </g>\n   <g id=\"PathCollection_1\">\n    <defs>\n     <path id=\"m96be103864\" d=\"M 0 3 \nC 0.795609 3 1.55874 2.683901 2.12132 2.12132 \nC 2.683901 1.55874 3 0.795609 3 0 \nC 3 -0.795609 2.683901 -1.55874 2.12132 -2.12132 \nC 1.55874 -2.683901 0.795609 -3 0 -3 \nC -0.795609 -3 -1.55874 -2.683901 -2.12132 -2.12132 \nC -2.683901 -1.55874 -3 -0.795609 -3 0 \nC -3 0.795609 -2.683901 1.55874 -2.12132 2.12132 \nC -1.55874 2.683901 -0.795609 3 0 3 \nz\n\" style=\"stroke: #ff0000\"/>\n    </defs>\n    <g clip-path=\"url(#pb6887d37d8)\">\n     <use xlink:href=\"#m96be103864\" x=\"238.235795\" y=\"37.14358\" style=\"fill: #ff0000; stroke: #ff0000\"/>\n    </g>\n   </g>\n   <g id=\"matplotlib.axis_1\">\n    <g id=\"xtick_1\">\n     <g id=\"line2d_1\">\n      <path d=\"M 69.144886 348.478125 \nL 69.144886 22.318125 \n\" clip-path=\"url(#pb6887d37d8)\" style=\"fill: none; stroke: #b0b0b0; stroke-width: 0.8; stroke-linecap: square\"/>\n     </g>\n     <g id=\"line2d_2\">\n      <defs>\n       <path id=\"m97993cc807\" d=\"M 0 0 \nL 0 3.5 \n\" style=\"stroke: #000000; stroke-width: 0.8\"/>\n      </defs>\n      <g>\n       <use xlink:href=\"#m97993cc807\" x=\"69.144886\" y=\"348.478125\" style=\"stroke: #000000; stroke-width: 0.8\"/>\n      </g>\n     </g>\n     <g id=\"text_1\">\n      <!-- $\\mathdefault{10^{-2}}$ -->\n      <g transform=\"translate(57.394886 363.076562)scale(0.1 -0.1)\">\n       <defs>\n        <path id=\"DejaVuSans-31\" d=\"M 794 531 \nL 1825 531 \nL 1825 4091 \nL 703 3866 \nL 703 4441 \nL 1819 4666 \nL 2450 4666 \nL 2450 531 \nL 3481 531 \nL 3481 0 \nL 794 0 \nL 794 531 \nz\n\" transform=\"scale(0.015625)\"/>\n        <path id=\"DejaVuSans-30\" d=\"M 2034 4250 \nQ 1547 4250 1301 3770 \nQ 1056 3291 1056 2328 \nQ 1056 1369 1301 889 \nQ 1547 409 2034 409 \nQ 2525 409 2770 889 \nQ 3016 1369 3016 2328 \nQ 3016 3291 2770 3770 \nQ 2525 4250 2034 4250 \nz\nM 2034 4750 \nQ 2819 4750 3233 4129 \nQ 3647 3509 3647 2328 \nQ 3647 1150 3233 529 \nQ 2819 -91 2034 -91 \nQ 1250 -91 836 529 \nQ 422 1150 422 2328 \nQ 422 3509 836 4129 \nQ 1250 4750 2034 4750 \nz\n\" transform=\"scale(0.015625)\"/>\n        <path id=\"DejaVuSans-2212\" d=\"M 678 2272 \nL 4684 2272 \nL 4684 1741 \nL 678 1741 \nL 678 2272 \nz\n\" transform=\"scale(0.015625)\"/>\n        <path id=\"DejaVuSans-32\" d=\"M 1228 531 \nL 3431 531 \nL 3431 0 \nL 469 0 \nL 469 531 \nQ 828 903 1448 1529 \nQ 2069 2156 2228 2338 \nQ 2531 2678 2651 2914 \nQ 2772 3150 2772 3378 \nQ 2772 3750 2511 3984 \nQ 2250 4219 1831 4219 \nQ 1534 4219 1204 4116 \nQ 875 4013 500 3803 \nL 500 4441 \nQ 881 4594 1212 4672 \nQ 1544 4750 1819 4750 \nQ 2544 4750 2975 4387 \nQ 3406 4025 3406 3419 \nQ 3406 3131 3298 2873 \nQ 3191 2616 2906 2266 \nQ 2828 2175 2409 1742 \nQ 1991 1309 1228 531 \nz\n\" transform=\"scale(0.015625)\"/>\n       </defs>\n       <use xlink:href=\"#DejaVuSans-31\" transform=\"translate(0 0.765625)\"/>\n       <use xlink:href=\"#DejaVuSans-30\" transform=\"translate(63.623047 0.765625)\"/>\n       <use xlink:href=\"#DejaVuSans-2212\" transform=\"translate(128.203125 39.046875)scale(0.7)\"/>\n       <use xlink:href=\"#DejaVuSans-32\" transform=\"translate(186.855469 39.046875)scale(0.7)\"/>\n      </g>\n     </g>\n    </g>\n    <g id=\"xtick_2\">\n     <g id=\"line2d_3\">\n      <path d=\"M 238.235795 348.478125 \nL 238.235795 22.318125 \n\" clip-path=\"url(#pb6887d37d8)\" style=\"fill: none; stroke: #b0b0b0; stroke-width: 0.8; stroke-linecap: square\"/>\n     </g>\n     <g id=\"line2d_4\">\n      <g>\n       <use xlink:href=\"#m97993cc807\" x=\"238.235795\" y=\"348.478125\" style=\"stroke: #000000; stroke-width: 0.8\"/>\n      </g>\n     </g>\n     <g id=\"text_2\">\n      <!-- $\\mathdefault{10^{-1}}$ -->\n      <g transform=\"translate(226.485795 363.076562)scale(0.1 -0.1)\">\n       <use xlink:href=\"#DejaVuSans-31\" transform=\"translate(0 0.684375)\"/>\n       <use xlink:href=\"#DejaVuSans-30\" transform=\"translate(63.623047 0.684375)\"/>\n       <use xlink:href=\"#DejaVuSans-2212\" transform=\"translate(128.203125 38.965625)scale(0.7)\"/>\n       <use xlink:href=\"#DejaVuSans-31\" transform=\"translate(186.855469 38.965625)scale(0.7)\"/>\n      </g>\n     </g>\n    </g>\n    <g id=\"xtick_3\">\n     <g id=\"line2d_5\">\n      <path d=\"M 407.326705 348.478125 \nL 407.326705 22.318125 \n\" clip-path=\"url(#pb6887d37d8)\" style=\"fill: none; stroke: #b0b0b0; stroke-width: 0.8; stroke-linecap: square\"/>\n     </g>\n     <g id=\"line2d_6\">\n      <g>\n       <use xlink:href=\"#m97993cc807\" x=\"407.326705\" y=\"348.478125\" style=\"stroke: #000000; stroke-width: 0.8\"/>\n      </g>\n     </g>\n     <g id=\"text_3\">\n      <!-- $\\mathdefault{10^{0}}$ -->\n      <g transform=\"translate(398.526705 363.076562)scale(0.1 -0.1)\">\n       <use xlink:href=\"#DejaVuSans-31\" transform=\"translate(0 0.765625)\"/>\n       <use xlink:href=\"#DejaVuSans-30\" transform=\"translate(63.623047 0.765625)\"/>\n       <use xlink:href=\"#DejaVuSans-30\" transform=\"translate(128.203125 39.046875)scale(0.7)\"/>\n      </g>\n     </g>\n    </g>\n    <g id=\"xtick_4\">\n     <g id=\"line2d_7\">\n      <path d=\"M 576.417614 348.478125 \nL 576.417614 22.318125 \n\" clip-path=\"url(#pb6887d37d8)\" style=\"fill: none; stroke: #b0b0b0; stroke-width: 0.8; stroke-linecap: square\"/>\n     </g>\n     <g id=\"line2d_8\">\n      <g>\n       <use xlink:href=\"#m97993cc807\" x=\"576.417614\" y=\"348.478125\" style=\"stroke: #000000; stroke-width: 0.8\"/>\n      </g>\n     </g>\n     <g id=\"text_4\">\n      <!-- $\\mathdefault{10^{1}}$ -->\n      <g transform=\"translate(567.617614 363.076562)scale(0.1 -0.1)\">\n       <use xlink:href=\"#DejaVuSans-31\" transform=\"translate(0 0.684375)\"/>\n       <use xlink:href=\"#DejaVuSans-30\" transform=\"translate(63.623047 0.684375)\"/>\n       <use xlink:href=\"#DejaVuSans-31\" transform=\"translate(128.203125 38.965625)scale(0.7)\"/>\n      </g>\n     </g>\n    </g>\n    <g id=\"xtick_5\">\n     <g id=\"line2d_9\">\n      <defs>\n       <path id=\"mf3c1f99785\" d=\"M 0 0 \nL 0 2 \n\" style=\"stroke: #000000; stroke-width: 0.6\"/>\n      </defs>\n      <g>\n       <use xlink:href=\"#mf3c1f99785\" x=\"52.758284\" y=\"348.478125\" style=\"stroke: #000000; stroke-width: 0.6\"/>\n      </g>\n     </g>\n    </g>\n    <g id=\"xtick_6\">\n     <g id=\"line2d_10\">\n      <g>\n       <use xlink:href=\"#mf3c1f99785\" x=\"61.407711\" y=\"348.478125\" style=\"stroke: #000000; stroke-width: 0.6\"/>\n      </g>\n     </g>\n    </g>\n    <g id=\"xtick_7\">\n     <g id=\"line2d_11\">\n      <g>\n       <use xlink:href=\"#mf3c1f99785\" x=\"120.046322\" y=\"348.478125\" style=\"stroke: #000000; stroke-width: 0.6\"/>\n      </g>\n     </g>\n    </g>\n    <g id=\"xtick_8\">\n     <g id=\"line2d_12\">\n      <g>\n       <use xlink:href=\"#mf3c1f99785\" x=\"149.821753\" y=\"348.478125\" style=\"stroke: #000000; stroke-width: 0.6\"/>\n      </g>\n     </g>\n    </g>\n    <g id=\"xtick_9\">\n     <g id=\"line2d_13\">\n      <g>\n       <use xlink:href=\"#mf3c1f99785\" x=\"170.947758\" y=\"348.478125\" style=\"stroke: #000000; stroke-width: 0.6\"/>\n      </g>\n     </g>\n    </g>\n    <g id=\"xtick_10\">\n     <g id=\"line2d_14\">\n      <g>\n       <use xlink:href=\"#mf3c1f99785\" x=\"187.33436\" y=\"348.478125\" style=\"stroke: #000000; stroke-width: 0.6\"/>\n      </g>\n     </g>\n    </g>\n    <g id=\"xtick_11\">\n     <g id=\"line2d_15\">\n      <g>\n       <use xlink:href=\"#mf3c1f99785\" x=\"200.723189\" y=\"348.478125\" style=\"stroke: #000000; stroke-width: 0.6\"/>\n      </g>\n     </g>\n    </g>\n    <g id=\"xtick_12\">\n     <g id=\"line2d_16\">\n      <g>\n       <use xlink:href=\"#mf3c1f99785\" x=\"212.043282\" y=\"348.478125\" style=\"stroke: #000000; stroke-width: 0.6\"/>\n      </g>\n     </g>\n    </g>\n    <g id=\"xtick_13\">\n     <g id=\"line2d_17\">\n      <g>\n       <use xlink:href=\"#mf3c1f99785\" x=\"221.849193\" y=\"348.478125\" style=\"stroke: #000000; stroke-width: 0.6\"/>\n      </g>\n     </g>\n    </g>\n    <g id=\"xtick_14\">\n     <g id=\"line2d_18\">\n      <g>\n       <use xlink:href=\"#mf3c1f99785\" x=\"230.49862\" y=\"348.478125\" style=\"stroke: #000000; stroke-width: 0.6\"/>\n      </g>\n     </g>\n    </g>\n    <g id=\"xtick_15\">\n     <g id=\"line2d_19\">\n      <g>\n       <use xlink:href=\"#mf3c1f99785\" x=\"289.137231\" y=\"348.478125\" style=\"stroke: #000000; stroke-width: 0.6\"/>\n      </g>\n     </g>\n    </g>\n    <g id=\"xtick_16\">\n     <g id=\"line2d_20\">\n      <g>\n       <use xlink:href=\"#mf3c1f99785\" x=\"318.912662\" y=\"348.478125\" style=\"stroke: #000000; stroke-width: 0.6\"/>\n      </g>\n     </g>\n    </g>\n    <g id=\"xtick_17\">\n     <g id=\"line2d_21\">\n      <g>\n       <use xlink:href=\"#mf3c1f99785\" x=\"340.038667\" y=\"348.478125\" style=\"stroke: #000000; stroke-width: 0.6\"/>\n      </g>\n     </g>\n    </g>\n    <g id=\"xtick_18\">\n     <g id=\"line2d_22\">\n      <g>\n       <use xlink:href=\"#mf3c1f99785\" x=\"356.425269\" y=\"348.478125\" style=\"stroke: #000000; stroke-width: 0.6\"/>\n      </g>\n     </g>\n    </g>\n    <g id=\"xtick_19\">\n     <g id=\"line2d_23\">\n      <g>\n       <use xlink:href=\"#mf3c1f99785\" x=\"369.814098\" y=\"348.478125\" style=\"stroke: #000000; stroke-width: 0.6\"/>\n      </g>\n     </g>\n    </g>\n    <g id=\"xtick_20\">\n     <g id=\"line2d_24\">\n      <g>\n       <use xlink:href=\"#mf3c1f99785\" x=\"381.134191\" y=\"348.478125\" style=\"stroke: #000000; stroke-width: 0.6\"/>\n      </g>\n     </g>\n    </g>\n    <g id=\"xtick_21\">\n     <g id=\"line2d_25\">\n      <g>\n       <use xlink:href=\"#mf3c1f99785\" x=\"390.940102\" y=\"348.478125\" style=\"stroke: #000000; stroke-width: 0.6\"/>\n      </g>\n     </g>\n    </g>\n    <g id=\"xtick_22\">\n     <g id=\"line2d_26\">\n      <g>\n       <use xlink:href=\"#mf3c1f99785\" x=\"399.589529\" y=\"348.478125\" style=\"stroke: #000000; stroke-width: 0.6\"/>\n      </g>\n     </g>\n    </g>\n    <g id=\"xtick_23\">\n     <g id=\"line2d_27\">\n      <g>\n       <use xlink:href=\"#mf3c1f99785\" x=\"458.22814\" y=\"348.478125\" style=\"stroke: #000000; stroke-width: 0.6\"/>\n      </g>\n     </g>\n    </g>\n    <g id=\"xtick_24\">\n     <g id=\"line2d_28\">\n      <g>\n       <use xlink:href=\"#mf3c1f99785\" x=\"488.003571\" y=\"348.478125\" style=\"stroke: #000000; stroke-width: 0.6\"/>\n      </g>\n     </g>\n    </g>\n    <g id=\"xtick_25\">\n     <g id=\"line2d_29\">\n      <g>\n       <use xlink:href=\"#mf3c1f99785\" x=\"509.129576\" y=\"348.478125\" style=\"stroke: #000000; stroke-width: 0.6\"/>\n      </g>\n     </g>\n    </g>\n    <g id=\"xtick_26\">\n     <g id=\"line2d_30\">\n      <g>\n       <use xlink:href=\"#mf3c1f99785\" x=\"525.516178\" y=\"348.478125\" style=\"stroke: #000000; stroke-width: 0.6\"/>\n      </g>\n     </g>\n    </g>\n    <g id=\"xtick_27\">\n     <g id=\"line2d_31\">\n      <g>\n       <use xlink:href=\"#mf3c1f99785\" x=\"538.905007\" y=\"348.478125\" style=\"stroke: #000000; stroke-width: 0.6\"/>\n      </g>\n     </g>\n    </g>\n    <g id=\"xtick_28\">\n     <g id=\"line2d_32\">\n      <g>\n       <use xlink:href=\"#mf3c1f99785\" x=\"550.2251\" y=\"348.478125\" style=\"stroke: #000000; stroke-width: 0.6\"/>\n      </g>\n     </g>\n    </g>\n    <g id=\"xtick_29\">\n     <g id=\"line2d_33\">\n      <g>\n       <use xlink:href=\"#mf3c1f99785\" x=\"560.031011\" y=\"348.478125\" style=\"stroke: #000000; stroke-width: 0.6\"/>\n      </g>\n     </g>\n    </g>\n    <g id=\"xtick_30\">\n     <g id=\"line2d_34\">\n      <g>\n       <use xlink:href=\"#mf3c1f99785\" x=\"568.680438\" y=\"348.478125\" style=\"stroke: #000000; stroke-width: 0.6\"/>\n      </g>\n     </g>\n    </g>\n    <g id=\"text_5\">\n     <!-- Alpha -->\n     <g transform=\"translate(308.564844 376.754687)scale(0.1 -0.1)\">\n      <defs>\n       <path id=\"DejaVuSans-41\" d=\"M 2188 4044 \nL 1331 1722 \nL 3047 1722 \nL 2188 4044 \nz\nM 1831 4666 \nL 2547 4666 \nL 4325 0 \nL 3669 0 \nL 3244 1197 \nL 1141 1197 \nL 716 0 \nL 50 0 \nL 1831 4666 \nz\n\" transform=\"scale(0.015625)\"/>\n       <path id=\"DejaVuSans-6c\" d=\"M 603 4863 \nL 1178 4863 \nL 1178 0 \nL 603 0 \nL 603 4863 \nz\n\" transform=\"scale(0.015625)\"/>\n       <path id=\"DejaVuSans-70\" d=\"M 1159 525 \nL 1159 -1331 \nL 581 -1331 \nL 581 3500 \nL 1159 3500 \nL 1159 2969 \nQ 1341 3281 1617 3432 \nQ 1894 3584 2278 3584 \nQ 2916 3584 3314 3078 \nQ 3713 2572 3713 1747 \nQ 3713 922 3314 415 \nQ 2916 -91 2278 -91 \nQ 1894 -91 1617 61 \nQ 1341 213 1159 525 \nz\nM 3116 1747 \nQ 3116 2381 2855 2742 \nQ 2594 3103 2138 3103 \nQ 1681 3103 1420 2742 \nQ 1159 2381 1159 1747 \nQ 1159 1113 1420 752 \nQ 1681 391 2138 391 \nQ 2594 391 2855 752 \nQ 3116 1113 3116 1747 \nz\n\" transform=\"scale(0.015625)\"/>\n       <path id=\"DejaVuSans-68\" d=\"M 3513 2113 \nL 3513 0 \nL 2938 0 \nL 2938 2094 \nQ 2938 2591 2744 2837 \nQ 2550 3084 2163 3084 \nQ 1697 3084 1428 2787 \nQ 1159 2491 1159 1978 \nL 1159 0 \nL 581 0 \nL 581 4863 \nL 1159 4863 \nL 1159 2956 \nQ 1366 3272 1645 3428 \nQ 1925 3584 2291 3584 \nQ 2894 3584 3203 3211 \nQ 3513 2838 3513 2113 \nz\n\" transform=\"scale(0.015625)\"/>\n       <path id=\"DejaVuSans-61\" d=\"M 2194 1759 \nQ 1497 1759 1228 1600 \nQ 959 1441 959 1056 \nQ 959 750 1161 570 \nQ 1363 391 1709 391 \nQ 2188 391 2477 730 \nQ 2766 1069 2766 1631 \nL 2766 1759 \nL 2194 1759 \nz\nM 3341 1997 \nL 3341 0 \nL 2766 0 \nL 2766 531 \nQ 2569 213 2275 61 \nQ 1981 -91 1556 -91 \nQ 1019 -91 701 211 \nQ 384 513 384 1019 \nQ 384 1609 779 1909 \nQ 1175 2209 1959 2209 \nL 2766 2209 \nL 2766 2266 \nQ 2766 2663 2505 2880 \nQ 2244 3097 1772 3097 \nQ 1472 3097 1187 3025 \nQ 903 2953 641 2809 \nL 641 3341 \nQ 956 3463 1253 3523 \nQ 1550 3584 1831 3584 \nQ 2591 3584 2966 3190 \nQ 3341 2797 3341 1997 \nz\n\" transform=\"scale(0.015625)\"/>\n      </defs>\n      <use xlink:href=\"#DejaVuSans-41\"/>\n      <use xlink:href=\"#DejaVuSans-6c\" x=\"68.408203\"/>\n      <use xlink:href=\"#DejaVuSans-70\" x=\"96.191406\"/>\n      <use xlink:href=\"#DejaVuSans-68\" x=\"159.667969\"/>\n      <use xlink:href=\"#DejaVuSans-61\" x=\"223.046875\"/>\n     </g>\n    </g>\n   </g>\n   <g id=\"matplotlib.axis_2\">\n    <g id=\"ytick_1\">\n     <g id=\"line2d_35\">\n      <path d=\"M 43.78125 292.137011 \nL 601.78125 292.137011 \n\" clip-path=\"url(#pb6887d37d8)\" style=\"fill: none; stroke: #b0b0b0; stroke-width: 0.8; stroke-linecap: square\"/>\n     </g>\n     <g id=\"line2d_36\">\n      <defs>\n       <path id=\"mbff195f744\" d=\"M 0 0 \nL -3.5 0 \n\" style=\"stroke: #000000; stroke-width: 0.8\"/>\n      </defs>\n      <g>\n       <use xlink:href=\"#mbff195f744\" x=\"43.78125\" y=\"292.137011\" style=\"stroke: #000000; stroke-width: 0.8\"/>\n      </g>\n     </g>\n     <g id=\"text_6\">\n      <!-- 0.4 -->\n      <g transform=\"translate(20.878125 295.936229)scale(0.1 -0.1)\">\n       <defs>\n        <path id=\"DejaVuSans-2e\" d=\"M 684 794 \nL 1344 794 \nL 1344 0 \nL 684 0 \nL 684 794 \nz\n\" transform=\"scale(0.015625)\"/>\n        <path id=\"DejaVuSans-34\" d=\"M 2419 4116 \nL 825 1625 \nL 2419 1625 \nL 2419 4116 \nz\nM 2253 4666 \nL 3047 4666 \nL 3047 1625 \nL 3713 1625 \nL 3713 1100 \nL 3047 1100 \nL 3047 0 \nL 2419 0 \nL 2419 1100 \nL 313 1100 \nL 313 1709 \nL 2253 4666 \nz\n\" transform=\"scale(0.015625)\"/>\n       </defs>\n       <use xlink:href=\"#DejaVuSans-30\"/>\n       <use xlink:href=\"#DejaVuSans-2e\" x=\"63.623047\"/>\n       <use xlink:href=\"#DejaVuSans-34\" x=\"95.410156\"/>\n      </g>\n     </g>\n    </g>\n    <g id=\"ytick_2\">\n     <g id=\"line2d_37\">\n      <path d=\"M 43.78125 229.863521 \nL 601.78125 229.863521 \n\" clip-path=\"url(#pb6887d37d8)\" style=\"fill: none; stroke: #b0b0b0; stroke-width: 0.8; stroke-linecap: square\"/>\n     </g>\n     <g id=\"line2d_38\">\n      <g>\n       <use xlink:href=\"#mbff195f744\" x=\"43.78125\" y=\"229.863521\" style=\"stroke: #000000; stroke-width: 0.8\"/>\n      </g>\n     </g>\n     <g id=\"text_7\">\n      <!-- 0.5 -->\n      <g transform=\"translate(20.878125 233.66274)scale(0.1 -0.1)\">\n       <defs>\n        <path id=\"DejaVuSans-35\" d=\"M 691 4666 \nL 3169 4666 \nL 3169 4134 \nL 1269 4134 \nL 1269 2991 \nQ 1406 3038 1543 3061 \nQ 1681 3084 1819 3084 \nQ 2600 3084 3056 2656 \nQ 3513 2228 3513 1497 \nQ 3513 744 3044 326 \nQ 2575 -91 1722 -91 \nQ 1428 -91 1123 -41 \nQ 819 9 494 109 \nL 494 744 \nQ 775 591 1075 516 \nQ 1375 441 1709 441 \nQ 2250 441 2565 725 \nQ 2881 1009 2881 1497 \nQ 2881 1984 2565 2268 \nQ 2250 2553 1709 2553 \nQ 1456 2553 1204 2497 \nQ 953 2441 691 2322 \nL 691 4666 \nz\n\" transform=\"scale(0.015625)\"/>\n       </defs>\n       <use xlink:href=\"#DejaVuSans-30\"/>\n       <use xlink:href=\"#DejaVuSans-2e\" x=\"63.623047\"/>\n       <use xlink:href=\"#DejaVuSans-35\" x=\"95.410156\"/>\n      </g>\n     </g>\n    </g>\n    <g id=\"ytick_3\">\n     <g id=\"line2d_39\">\n      <path d=\"M 43.78125 167.590031 \nL 601.78125 167.590031 \n\" clip-path=\"url(#pb6887d37d8)\" style=\"fill: none; stroke: #b0b0b0; stroke-width: 0.8; stroke-linecap: square\"/>\n     </g>\n     <g id=\"line2d_40\">\n      <g>\n       <use xlink:href=\"#mbff195f744\" x=\"43.78125\" y=\"167.590031\" style=\"stroke: #000000; stroke-width: 0.8\"/>\n      </g>\n     </g>\n     <g id=\"text_8\">\n      <!-- 0.6 -->\n      <g transform=\"translate(20.878125 171.38925)scale(0.1 -0.1)\">\n       <defs>\n        <path id=\"DejaVuSans-36\" d=\"M 2113 2584 \nQ 1688 2584 1439 2293 \nQ 1191 2003 1191 1497 \nQ 1191 994 1439 701 \nQ 1688 409 2113 409 \nQ 2538 409 2786 701 \nQ 3034 994 3034 1497 \nQ 3034 2003 2786 2293 \nQ 2538 2584 2113 2584 \nz\nM 3366 4563 \nL 3366 3988 \nQ 3128 4100 2886 4159 \nQ 2644 4219 2406 4219 \nQ 1781 4219 1451 3797 \nQ 1122 3375 1075 2522 \nQ 1259 2794 1537 2939 \nQ 1816 3084 2150 3084 \nQ 2853 3084 3261 2657 \nQ 3669 2231 3669 1497 \nQ 3669 778 3244 343 \nQ 2819 -91 2113 -91 \nQ 1303 -91 875 529 \nQ 447 1150 447 2328 \nQ 447 3434 972 4092 \nQ 1497 4750 2381 4750 \nQ 2619 4750 2861 4703 \nQ 3103 4656 3366 4563 \nz\n\" transform=\"scale(0.015625)\"/>\n       </defs>\n       <use xlink:href=\"#DejaVuSans-30\"/>\n       <use xlink:href=\"#DejaVuSans-2e\" x=\"63.623047\"/>\n       <use xlink:href=\"#DejaVuSans-36\" x=\"95.410156\"/>\n      </g>\n     </g>\n    </g>\n    <g id=\"ytick_4\">\n     <g id=\"line2d_41\">\n      <path d=\"M 43.78125 105.316542 \nL 601.78125 105.316542 \n\" clip-path=\"url(#pb6887d37d8)\" style=\"fill: none; stroke: #b0b0b0; stroke-width: 0.8; stroke-linecap: square\"/>\n     </g>\n     <g id=\"line2d_42\">\n      <g>\n       <use xlink:href=\"#mbff195f744\" x=\"43.78125\" y=\"105.316542\" style=\"stroke: #000000; stroke-width: 0.8\"/>\n      </g>\n     </g>\n     <g id=\"text_9\">\n      <!-- 0.7 -->\n      <g transform=\"translate(20.878125 109.11576)scale(0.1 -0.1)\">\n       <defs>\n        <path id=\"DejaVuSans-37\" d=\"M 525 4666 \nL 3525 4666 \nL 3525 4397 \nL 1831 0 \nL 1172 0 \nL 2766 4134 \nL 525 4134 \nL 525 4666 \nz\n\" transform=\"scale(0.015625)\"/>\n       </defs>\n       <use xlink:href=\"#DejaVuSans-30\"/>\n       <use xlink:href=\"#DejaVuSans-2e\" x=\"63.623047\"/>\n       <use xlink:href=\"#DejaVuSans-37\" x=\"95.410156\"/>\n      </g>\n     </g>\n    </g>\n    <g id=\"ytick_5\">\n     <g id=\"line2d_43\">\n      <path d=\"M 43.78125 43.043052 \nL 601.78125 43.043052 \n\" clip-path=\"url(#pb6887d37d8)\" style=\"fill: none; stroke: #b0b0b0; stroke-width: 0.8; stroke-linecap: square\"/>\n     </g>\n     <g id=\"line2d_44\">\n      <g>\n       <use xlink:href=\"#mbff195f744\" x=\"43.78125\" y=\"43.043052\" style=\"stroke: #000000; stroke-width: 0.8\"/>\n      </g>\n     </g>\n     <g id=\"text_10\">\n      <!-- 0.8 -->\n      <g transform=\"translate(20.878125 46.842271)scale(0.1 -0.1)\">\n       <defs>\n        <path id=\"DejaVuSans-38\" d=\"M 2034 2216 \nQ 1584 2216 1326 1975 \nQ 1069 1734 1069 1313 \nQ 1069 891 1326 650 \nQ 1584 409 2034 409 \nQ 2484 409 2743 651 \nQ 3003 894 3003 1313 \nQ 3003 1734 2745 1975 \nQ 2488 2216 2034 2216 \nz\nM 1403 2484 \nQ 997 2584 770 2862 \nQ 544 3141 544 3541 \nQ 544 4100 942 4425 \nQ 1341 4750 2034 4750 \nQ 2731 4750 3128 4425 \nQ 3525 4100 3525 3541 \nQ 3525 3141 3298 2862 \nQ 3072 2584 2669 2484 \nQ 3125 2378 3379 2068 \nQ 3634 1759 3634 1313 \nQ 3634 634 3220 271 \nQ 2806 -91 2034 -91 \nQ 1263 -91 848 271 \nQ 434 634 434 1313 \nQ 434 1759 690 2068 \nQ 947 2378 1403 2484 \nz\nM 1172 3481 \nQ 1172 3119 1398 2916 \nQ 1625 2713 2034 2713 \nQ 2441 2713 2670 2916 \nQ 2900 3119 2900 3481 \nQ 2900 3844 2670 4047 \nQ 2441 4250 2034 4250 \nQ 1625 4250 1398 4047 \nQ 1172 3844 1172 3481 \nz\n\" transform=\"scale(0.015625)\"/>\n       </defs>\n       <use xlink:href=\"#DejaVuSans-30\"/>\n       <use xlink:href=\"#DejaVuSans-2e\" x=\"63.623047\"/>\n       <use xlink:href=\"#DejaVuSans-38\" x=\"95.410156\"/>\n      </g>\n     </g>\n    </g>\n    <g id=\"text_11\">\n     <!-- Balanced Accuracy Score -->\n     <g transform=\"translate(14.798438 248.523125)rotate(-90)scale(0.1 -0.1)\">\n      <defs>\n       <path id=\"DejaVuSans-42\" d=\"M 1259 2228 \nL 1259 519 \nL 2272 519 \nQ 2781 519 3026 730 \nQ 3272 941 3272 1375 \nQ 3272 1813 3026 2020 \nQ 2781 2228 2272 2228 \nL 1259 2228 \nz\nM 1259 4147 \nL 1259 2741 \nL 2194 2741 \nQ 2656 2741 2882 2914 \nQ 3109 3088 3109 3444 \nQ 3109 3797 2882 3972 \nQ 2656 4147 2194 4147 \nL 1259 4147 \nz\nM 628 4666 \nL 2241 4666 \nQ 2963 4666 3353 4366 \nQ 3744 4066 3744 3513 \nQ 3744 3084 3544 2831 \nQ 3344 2578 2956 2516 \nQ 3422 2416 3680 2098 \nQ 3938 1781 3938 1306 \nQ 3938 681 3513 340 \nQ 3088 0 2303 0 \nL 628 0 \nL 628 4666 \nz\n\" transform=\"scale(0.015625)\"/>\n       <path id=\"DejaVuSans-6e\" d=\"M 3513 2113 \nL 3513 0 \nL 2938 0 \nL 2938 2094 \nQ 2938 2591 2744 2837 \nQ 2550 3084 2163 3084 \nQ 1697 3084 1428 2787 \nQ 1159 2491 1159 1978 \nL 1159 0 \nL 581 0 \nL 581 3500 \nL 1159 3500 \nL 1159 2956 \nQ 1366 3272 1645 3428 \nQ 1925 3584 2291 3584 \nQ 2894 3584 3203 3211 \nQ 3513 2838 3513 2113 \nz\n\" transform=\"scale(0.015625)\"/>\n       <path id=\"DejaVuSans-63\" d=\"M 3122 3366 \nL 3122 2828 \nQ 2878 2963 2633 3030 \nQ 2388 3097 2138 3097 \nQ 1578 3097 1268 2742 \nQ 959 2388 959 1747 \nQ 959 1106 1268 751 \nQ 1578 397 2138 397 \nQ 2388 397 2633 464 \nQ 2878 531 3122 666 \nL 3122 134 \nQ 2881 22 2623 -34 \nQ 2366 -91 2075 -91 \nQ 1284 -91 818 406 \nQ 353 903 353 1747 \nQ 353 2603 823 3093 \nQ 1294 3584 2113 3584 \nQ 2378 3584 2631 3529 \nQ 2884 3475 3122 3366 \nz\n\" transform=\"scale(0.015625)\"/>\n       <path id=\"DejaVuSans-65\" d=\"M 3597 1894 \nL 3597 1613 \nL 953 1613 \nQ 991 1019 1311 708 \nQ 1631 397 2203 397 \nQ 2534 397 2845 478 \nQ 3156 559 3463 722 \nL 3463 178 \nQ 3153 47 2828 -22 \nQ 2503 -91 2169 -91 \nQ 1331 -91 842 396 \nQ 353 884 353 1716 \nQ 353 2575 817 3079 \nQ 1281 3584 2069 3584 \nQ 2775 3584 3186 3129 \nQ 3597 2675 3597 1894 \nz\nM 3022 2063 \nQ 3016 2534 2758 2815 \nQ 2500 3097 2075 3097 \nQ 1594 3097 1305 2825 \nQ 1016 2553 972 2059 \nL 3022 2063 \nz\n\" transform=\"scale(0.015625)\"/>\n       <path id=\"DejaVuSans-64\" d=\"M 2906 2969 \nL 2906 4863 \nL 3481 4863 \nL 3481 0 \nL 2906 0 \nL 2906 525 \nQ 2725 213 2448 61 \nQ 2172 -91 1784 -91 \nQ 1150 -91 751 415 \nQ 353 922 353 1747 \nQ 353 2572 751 3078 \nQ 1150 3584 1784 3584 \nQ 2172 3584 2448 3432 \nQ 2725 3281 2906 2969 \nz\nM 947 1747 \nQ 947 1113 1208 752 \nQ 1469 391 1925 391 \nQ 2381 391 2643 752 \nQ 2906 1113 2906 1747 \nQ 2906 2381 2643 2742 \nQ 2381 3103 1925 3103 \nQ 1469 3103 1208 2742 \nQ 947 2381 947 1747 \nz\n\" transform=\"scale(0.015625)\"/>\n       <path id=\"DejaVuSans-20\" transform=\"scale(0.015625)\"/>\n       <path id=\"DejaVuSans-75\" d=\"M 544 1381 \nL 544 3500 \nL 1119 3500 \nL 1119 1403 \nQ 1119 906 1312 657 \nQ 1506 409 1894 409 \nQ 2359 409 2629 706 \nQ 2900 1003 2900 1516 \nL 2900 3500 \nL 3475 3500 \nL 3475 0 \nL 2900 0 \nL 2900 538 \nQ 2691 219 2414 64 \nQ 2138 -91 1772 -91 \nQ 1169 -91 856 284 \nQ 544 659 544 1381 \nz\nM 1991 3584 \nL 1991 3584 \nz\n\" transform=\"scale(0.015625)\"/>\n       <path id=\"DejaVuSans-72\" d=\"M 2631 2963 \nQ 2534 3019 2420 3045 \nQ 2306 3072 2169 3072 \nQ 1681 3072 1420 2755 \nQ 1159 2438 1159 1844 \nL 1159 0 \nL 581 0 \nL 581 3500 \nL 1159 3500 \nL 1159 2956 \nQ 1341 3275 1631 3429 \nQ 1922 3584 2338 3584 \nQ 2397 3584 2469 3576 \nQ 2541 3569 2628 3553 \nL 2631 2963 \nz\n\" transform=\"scale(0.015625)\"/>\n       <path id=\"DejaVuSans-79\" d=\"M 2059 -325 \nQ 1816 -950 1584 -1140 \nQ 1353 -1331 966 -1331 \nL 506 -1331 \nL 506 -850 \nL 844 -850 \nQ 1081 -850 1212 -737 \nQ 1344 -625 1503 -206 \nL 1606 56 \nL 191 3500 \nL 800 3500 \nL 1894 763 \nL 2988 3500 \nL 3597 3500 \nL 2059 -325 \nz\n\" transform=\"scale(0.015625)\"/>\n       <path id=\"DejaVuSans-53\" d=\"M 3425 4513 \nL 3425 3897 \nQ 3066 4069 2747 4153 \nQ 2428 4238 2131 4238 \nQ 1616 4238 1336 4038 \nQ 1056 3838 1056 3469 \nQ 1056 3159 1242 3001 \nQ 1428 2844 1947 2747 \nL 2328 2669 \nQ 3034 2534 3370 2195 \nQ 3706 1856 3706 1288 \nQ 3706 609 3251 259 \nQ 2797 -91 1919 -91 \nQ 1588 -91 1214 -16 \nQ 841 59 441 206 \nL 441 856 \nQ 825 641 1194 531 \nQ 1563 422 1919 422 \nQ 2459 422 2753 634 \nQ 3047 847 3047 1241 \nQ 3047 1584 2836 1778 \nQ 2625 1972 2144 2069 \nL 1759 2144 \nQ 1053 2284 737 2584 \nQ 422 2884 422 3419 \nQ 422 4038 858 4394 \nQ 1294 4750 2059 4750 \nQ 2388 4750 2728 4690 \nQ 3069 4631 3425 4513 \nz\n\" transform=\"scale(0.015625)\"/>\n       <path id=\"DejaVuSans-6f\" d=\"M 1959 3097 \nQ 1497 3097 1228 2736 \nQ 959 2375 959 1747 \nQ 959 1119 1226 758 \nQ 1494 397 1959 397 \nQ 2419 397 2687 759 \nQ 2956 1122 2956 1747 \nQ 2956 2369 2687 2733 \nQ 2419 3097 1959 3097 \nz\nM 1959 3584 \nQ 2709 3584 3137 3096 \nQ 3566 2609 3566 1747 \nQ 3566 888 3137 398 \nQ 2709 -91 1959 -91 \nQ 1206 -91 779 398 \nQ 353 888 353 1747 \nQ 353 2609 779 3096 \nQ 1206 3584 1959 3584 \nz\n\" transform=\"scale(0.015625)\"/>\n      </defs>\n      <use xlink:href=\"#DejaVuSans-42\"/>\n      <use xlink:href=\"#DejaVuSans-61\" x=\"68.603516\"/>\n      <use xlink:href=\"#DejaVuSans-6c\" x=\"129.882812\"/>\n      <use xlink:href=\"#DejaVuSans-61\" x=\"157.666016\"/>\n      <use xlink:href=\"#DejaVuSans-6e\" x=\"218.945312\"/>\n      <use xlink:href=\"#DejaVuSans-63\" x=\"282.324219\"/>\n      <use xlink:href=\"#DejaVuSans-65\" x=\"337.304688\"/>\n      <use xlink:href=\"#DejaVuSans-64\" x=\"398.828125\"/>\n      <use xlink:href=\"#DejaVuSans-20\" x=\"462.304688\"/>\n      <use xlink:href=\"#DejaVuSans-41\" x=\"494.091797\"/>\n      <use xlink:href=\"#DejaVuSans-63\" x=\"560.75\"/>\n      <use xlink:href=\"#DejaVuSans-63\" x=\"615.730469\"/>\n      <use xlink:href=\"#DejaVuSans-75\" x=\"670.710938\"/>\n      <use xlink:href=\"#DejaVuSans-72\" x=\"734.089844\"/>\n      <use xlink:href=\"#DejaVuSans-61\" x=\"775.203125\"/>\n      <use xlink:href=\"#DejaVuSans-63\" x=\"836.482422\"/>\n      <use xlink:href=\"#DejaVuSans-79\" x=\"891.462891\"/>\n      <use xlink:href=\"#DejaVuSans-20\" x=\"950.642578\"/>\n      <use xlink:href=\"#DejaVuSans-53\" x=\"982.429688\"/>\n      <use xlink:href=\"#DejaVuSans-63\" x=\"1045.90625\"/>\n      <use xlink:href=\"#DejaVuSans-6f\" x=\"1100.886719\"/>\n      <use xlink:href=\"#DejaVuSans-72\" x=\"1162.068359\"/>\n      <use xlink:href=\"#DejaVuSans-65\" x=\"1200.931641\"/>\n     </g>\n    </g>\n   </g>\n   <g id=\"line2d_45\">\n    <path d=\"M 69.144886 41.890828 \nL 74.268853 41.890828 \nL 79.39282 41.890828 \nL 84.516787 41.760766 \nL 89.640754 41.760766 \nL 94.764721 41.760766 \nL 99.888688 41.760766 \nL 105.012655 40.395119 \nL 110.136622 40.525181 \nL 115.260589 40.525181 \nL 120.384556 40.525181 \nL 125.508523 41.470655 \nL 130.63249 41.470655 \nL 135.756457 41.470655 \nL 140.880424 41.470655 \nL 146.00439 41.340593 \nL 151.128357 41.340593 \nL 156.252324 41.340593 \nL 161.376291 42.70624 \nL 166.500258 42.70624 \nL 171.624225 42.70624 \nL 176.748192 42.836301 \nL 181.872159 42.836301 \nL 186.996126 42.836301 \nL 192.120093 44.201948 \nL 197.24406 44.201948 \nL 202.368027 41.470655 \nL 207.491994 41.050481 \nL 212.615961 41.050481 \nL 217.739928 39.684835 \nL 222.863895 39.554773 \nL 227.987862 39.29465 \nL 233.111829 39.29465 \nL 238.235795 37.14358 \nL 243.359762 38.249103 \nL 248.483729 38.249103 \nL 253.607696 40.980396 \nL 258.731663 40.980396 \nL 263.85563 40.980396 \nL 268.979597 44.367052 \nL 274.103564 45.732699 \nL 279.227531 45.86276 \nL 284.351498 46.122884 \nL 289.475465 47.48853 \nL 294.599432 49.509539 \nL 299.723399 50.875186 \nL 304.847366 50.875186 \nL 309.971333 53.606479 \nL 315.0953 51.980709 \nL 320.219267 51.980709 \nL 325.343233 51.980709 \nL 330.4672 48.754104 \nL 335.591167 51.325347 \nL 340.715134 51.195286 \nL 345.839101 51.325347 \nL 350.963068 51.325347 \nL 356.087035 52.560932 \nL 361.211002 54.872053 \nL 366.334969 59.914466 \nL 371.458936 66.657789 \nL 376.582903 66.527728 \nL 381.70687 67.893374 \nL 386.830837 69.128959 \nL 391.954804 73.2259 \nL 397.078771 74.301435 \nL 402.202738 78.108263 \nL 407.326705 82.075142 \nL 412.450671 84.676374 \nL 417.574638 87.407667 \nL 422.698605 96.386971 \nL 427.822572 99.613577 \nL 432.946539 107.097172 \nL 438.070506 115.160991 \nL 443.194473 115.160991 \nL 448.31844 125.37588 \nL 453.442407 140.603195 \nL 458.566374 156.531022 \nL 463.690341 163.724507 \nL 468.814308 182.338477 \nL 473.938275 192.683427 \nL 479.062242 203.233579 \nL 484.186209 214.148981 \nL 489.310176 238.430739 \nL 494.434143 248.690779 \nL 499.55811 258.035333 \nL 504.682076 273.673049 \nL 509.806043 281.491908 \nL 514.93001 299.280694 \nL 520.053977 309.540734 \nL 525.177944 314.002925 \nL 530.301911 326.123924 \nL 535.425878 330.426065 \nL 540.549845 330.426065 \nL 545.673812 333.65267 \nL 550.797779 333.65267 \nL 555.921746 333.65267 \nL 561.045713 333.65267 \nL 566.16968 333.65267 \nL 571.293647 333.65267 \nL 576.417614 333.65267 \n\" clip-path=\"url(#pb6887d37d8)\" style=\"fill: none; stroke: #1f77b4; stroke-width: 1.5; stroke-linecap: square\"/>\n   </g>\n   <g id=\"patch_3\">\n    <path d=\"M 43.78125 348.478125 \nL 43.78125 22.318125 \n\" style=\"fill: none; stroke: #000000; stroke-width: 0.8; stroke-linejoin: miter; stroke-linecap: square\"/>\n   </g>\n   <g id=\"patch_4\">\n    <path d=\"M 601.78125 348.478125 \nL 601.78125 22.318125 \n\" style=\"fill: none; stroke: #000000; stroke-width: 0.8; stroke-linejoin: miter; stroke-linecap: square\"/>\n   </g>\n   <g id=\"patch_5\">\n    <path d=\"M 43.78125 348.478125 \nL 601.78125 348.478125 \n\" style=\"fill: none; stroke: #000000; stroke-width: 0.8; stroke-linejoin: miter; stroke-linecap: square\"/>\n   </g>\n   <g id=\"patch_6\">\n    <path d=\"M 43.78125 22.318125 \nL 601.78125 22.318125 \n\" style=\"fill: none; stroke: #000000; stroke-width: 0.8; stroke-linejoin: miter; stroke-linecap: square\"/>\n   </g>\n   <g id=\"text_12\">\n    <!--   Best Alpha=1.00e-01 -->\n    <g transform=\"translate(238.235795 23.86608)scale(0.1 -0.1)\">\n     <defs>\n      <path id=\"DejaVuSans-73\" d=\"M 2834 3397 \nL 2834 2853 \nQ 2591 2978 2328 3040 \nQ 2066 3103 1784 3103 \nQ 1356 3103 1142 2972 \nQ 928 2841 928 2578 \nQ 928 2378 1081 2264 \nQ 1234 2150 1697 2047 \nL 1894 2003 \nQ 2506 1872 2764 1633 \nQ 3022 1394 3022 966 \nQ 3022 478 2636 193 \nQ 2250 -91 1575 -91 \nQ 1294 -91 989 -36 \nQ 684 19 347 128 \nL 347 722 \nQ 666 556 975 473 \nQ 1284 391 1588 391 \nQ 1994 391 2212 530 \nQ 2431 669 2431 922 \nQ 2431 1156 2273 1281 \nQ 2116 1406 1581 1522 \nL 1381 1569 \nQ 847 1681 609 1914 \nQ 372 2147 372 2553 \nQ 372 3047 722 3315 \nQ 1072 3584 1716 3584 \nQ 2034 3584 2315 3537 \nQ 2597 3491 2834 3397 \nz\n\" transform=\"scale(0.015625)\"/>\n      <path id=\"DejaVuSans-74\" d=\"M 1172 4494 \nL 1172 3500 \nL 2356 3500 \nL 2356 3053 \nL 1172 3053 \nL 1172 1153 \nQ 1172 725 1289 603 \nQ 1406 481 1766 481 \nL 2356 481 \nL 2356 0 \nL 1766 0 \nQ 1100 0 847 248 \nQ 594 497 594 1153 \nL 594 3053 \nL 172 3053 \nL 172 3500 \nL 594 3500 \nL 594 4494 \nL 1172 4494 \nz\n\" transform=\"scale(0.015625)\"/>\n      <path id=\"DejaVuSans-3d\" d=\"M 678 2906 \nL 4684 2906 \nL 4684 2381 \nL 678 2381 \nL 678 2906 \nz\nM 678 1631 \nL 4684 1631 \nL 4684 1100 \nL 678 1100 \nL 678 1631 \nz\n\" transform=\"scale(0.015625)\"/>\n      <path id=\"DejaVuSans-2d\" d=\"M 313 2009 \nL 1997 2009 \nL 1997 1497 \nL 313 1497 \nL 313 2009 \nz\n\" transform=\"scale(0.015625)\"/>\n     </defs>\n     <use xlink:href=\"#DejaVuSans-20\"/>\n     <use xlink:href=\"#DejaVuSans-20\" x=\"31.787109\"/>\n     <use xlink:href=\"#DejaVuSans-42\" x=\"63.574219\"/>\n     <use xlink:href=\"#DejaVuSans-65\" x=\"132.177734\"/>\n     <use xlink:href=\"#DejaVuSans-73\" x=\"193.701172\"/>\n     <use xlink:href=\"#DejaVuSans-74\" x=\"245.800781\"/>\n     <use xlink:href=\"#DejaVuSans-20\" x=\"285.009766\"/>\n     <use xlink:href=\"#DejaVuSans-41\" x=\"316.796875\"/>\n     <use xlink:href=\"#DejaVuSans-6c\" x=\"385.205078\"/>\n     <use xlink:href=\"#DejaVuSans-70\" x=\"412.988281\"/>\n     <use xlink:href=\"#DejaVuSans-68\" x=\"476.464844\"/>\n     <use xlink:href=\"#DejaVuSans-61\" x=\"539.84375\"/>\n     <use xlink:href=\"#DejaVuSans-3d\" x=\"601.123047\"/>\n     <use xlink:href=\"#DejaVuSans-31\" x=\"684.912109\"/>\n     <use xlink:href=\"#DejaVuSans-2e\" x=\"748.535156\"/>\n     <use xlink:href=\"#DejaVuSans-30\" x=\"780.322266\"/>\n     <use xlink:href=\"#DejaVuSans-30\" x=\"843.945312\"/>\n     <use xlink:href=\"#DejaVuSans-65\" x=\"907.568359\"/>\n     <use xlink:href=\"#DejaVuSans-2d\" x=\"969.091797\"/>\n     <use xlink:href=\"#DejaVuSans-30\" x=\"1005.175781\"/>\n     <use xlink:href=\"#DejaVuSans-31\" x=\"1068.798828\"/>\n    </g>\n    <!--   Score=0.8095 -->\n    <g transform=\"translate(238.235795 35.063892)scale(0.1 -0.1)\">\n     <defs>\n      <path id=\"DejaVuSans-39\" d=\"M 703 97 \nL 703 672 \nQ 941 559 1184 500 \nQ 1428 441 1663 441 \nQ 2288 441 2617 861 \nQ 2947 1281 2994 2138 \nQ 2813 1869 2534 1725 \nQ 2256 1581 1919 1581 \nQ 1219 1581 811 2004 \nQ 403 2428 403 3163 \nQ 403 3881 828 4315 \nQ 1253 4750 1959 4750 \nQ 2769 4750 3195 4129 \nQ 3622 3509 3622 2328 \nQ 3622 1225 3098 567 \nQ 2575 -91 1691 -91 \nQ 1453 -91 1209 -44 \nQ 966 3 703 97 \nz\nM 1959 2075 \nQ 2384 2075 2632 2365 \nQ 2881 2656 2881 3163 \nQ 2881 3666 2632 3958 \nQ 2384 4250 1959 4250 \nQ 1534 4250 1286 3958 \nQ 1038 3666 1038 3163 \nQ 1038 2656 1286 2365 \nQ 1534 2075 1959 2075 \nz\n\" transform=\"scale(0.015625)\"/>\n     </defs>\n     <use xlink:href=\"#DejaVuSans-20\"/>\n     <use xlink:href=\"#DejaVuSans-20\" x=\"31.787109\"/>\n     <use xlink:href=\"#DejaVuSans-53\" x=\"63.574219\"/>\n     <use xlink:href=\"#DejaVuSans-63\" x=\"127.050781\"/>\n     <use xlink:href=\"#DejaVuSans-6f\" x=\"182.03125\"/>\n     <use xlink:href=\"#DejaVuSans-72\" x=\"243.212891\"/>\n     <use xlink:href=\"#DejaVuSans-65\" x=\"282.076172\"/>\n     <use xlink:href=\"#DejaVuSans-3d\" x=\"343.599609\"/>\n     <use xlink:href=\"#DejaVuSans-30\" x=\"427.388672\"/>\n     <use xlink:href=\"#DejaVuSans-2e\" x=\"491.011719\"/>\n     <use xlink:href=\"#DejaVuSans-38\" x=\"522.798828\"/>\n     <use xlink:href=\"#DejaVuSans-30\" x=\"586.421875\"/>\n     <use xlink:href=\"#DejaVuSans-39\" x=\"650.044922\"/>\n     <use xlink:href=\"#DejaVuSans-35\" x=\"713.667969\"/>\n    </g>\n   </g>\n   <g id=\"text_13\">\n    <!-- Alpha vs Balanced Accuracy Score -->\n    <g transform=\"translate(219.480938 16.318125)scale(0.12 -0.12)\">\n     <defs>\n      <path id=\"DejaVuSans-76\" d=\"M 191 3500 \nL 800 3500 \nL 1894 563 \nL 2988 3500 \nL 3597 3500 \nL 2284 0 \nL 1503 0 \nL 191 3500 \nz\n\" transform=\"scale(0.015625)\"/>\n     </defs>\n     <use xlink:href=\"#DejaVuSans-41\"/>\n     <use xlink:href=\"#DejaVuSans-6c\" x=\"68.408203\"/>\n     <use xlink:href=\"#DejaVuSans-70\" x=\"96.191406\"/>\n     <use xlink:href=\"#DejaVuSans-68\" x=\"159.667969\"/>\n     <use xlink:href=\"#DejaVuSans-61\" x=\"223.046875\"/>\n     <use xlink:href=\"#DejaVuSans-20\" x=\"284.326172\"/>\n     <use xlink:href=\"#DejaVuSans-76\" x=\"316.113281\"/>\n     <use xlink:href=\"#DejaVuSans-73\" x=\"375.292969\"/>\n     <use xlink:href=\"#DejaVuSans-20\" x=\"427.392578\"/>\n     <use xlink:href=\"#DejaVuSans-42\" x=\"459.179688\"/>\n     <use xlink:href=\"#DejaVuSans-61\" x=\"527.783203\"/>\n     <use xlink:href=\"#DejaVuSans-6c\" x=\"589.0625\"/>\n     <use xlink:href=\"#DejaVuSans-61\" x=\"616.845703\"/>\n     <use xlink:href=\"#DejaVuSans-6e\" x=\"678.125\"/>\n     <use xlink:href=\"#DejaVuSans-63\" x=\"741.503906\"/>\n     <use xlink:href=\"#DejaVuSans-65\" x=\"796.484375\"/>\n     <use xlink:href=\"#DejaVuSans-64\" x=\"858.007812\"/>\n     <use xlink:href=\"#DejaVuSans-20\" x=\"921.484375\"/>\n     <use xlink:href=\"#DejaVuSans-41\" x=\"953.271484\"/>\n     <use xlink:href=\"#DejaVuSans-63\" x=\"1019.929688\"/>\n     <use xlink:href=\"#DejaVuSans-63\" x=\"1074.910156\"/>\n     <use xlink:href=\"#DejaVuSans-75\" x=\"1129.890625\"/>\n     <use xlink:href=\"#DejaVuSans-72\" x=\"1193.269531\"/>\n     <use xlink:href=\"#DejaVuSans-61\" x=\"1234.382812\"/>\n     <use xlink:href=\"#DejaVuSans-63\" x=\"1295.662109\"/>\n     <use xlink:href=\"#DejaVuSans-79\" x=\"1350.642578\"/>\n     <use xlink:href=\"#DejaVuSans-20\" x=\"1409.822266\"/>\n     <use xlink:href=\"#DejaVuSans-53\" x=\"1441.609375\"/>\n     <use xlink:href=\"#DejaVuSans-63\" x=\"1505.085938\"/>\n     <use xlink:href=\"#DejaVuSans-6f\" x=\"1560.066406\"/>\n     <use xlink:href=\"#DejaVuSans-72\" x=\"1621.248047\"/>\n     <use xlink:href=\"#DejaVuSans-65\" x=\"1660.111328\"/>\n    </g>\n   </g>\n   <g id=\"legend_1\">\n    <g id=\"patch_7\">\n     <path d=\"M 436.53125 44.99625 \nL 594.78125 44.99625 \nQ 596.78125 44.99625 596.78125 42.99625 \nL 596.78125 29.318125 \nQ 596.78125 27.318125 594.78125 27.318125 \nL 436.53125 27.318125 \nQ 434.53125 27.318125 434.53125 29.318125 \nL 434.53125 42.99625 \nQ 434.53125 44.99625 436.53125 44.99625 \nz\n\" style=\"fill: #ffffff; opacity: 0.8; stroke: #cccccc; stroke-linejoin: miter\"/>\n    </g>\n    <g id=\"line2d_46\">\n     <path d=\"M 438.53125 35.416562 \nL 448.53125 35.416562 \nL 458.53125 35.416562 \n\" style=\"fill: none; stroke: #1f77b4; stroke-width: 1.5; stroke-linecap: square\"/>\n    </g>\n    <g id=\"text_14\">\n     <!-- Balanced Accuracy Score -->\n     <g transform=\"translate(466.53125 38.916562)scale(0.1 -0.1)\">\n      <use xlink:href=\"#DejaVuSans-42\"/>\n      <use xlink:href=\"#DejaVuSans-61\" x=\"68.603516\"/>\n      <use xlink:href=\"#DejaVuSans-6c\" x=\"129.882812\"/>\n      <use xlink:href=\"#DejaVuSans-61\" x=\"157.666016\"/>\n      <use xlink:href=\"#DejaVuSans-6e\" x=\"218.945312\"/>\n      <use xlink:href=\"#DejaVuSans-63\" x=\"282.324219\"/>\n      <use xlink:href=\"#DejaVuSans-65\" x=\"337.304688\"/>\n      <use xlink:href=\"#DejaVuSans-64\" x=\"398.828125\"/>\n      <use xlink:href=\"#DejaVuSans-20\" x=\"462.304688\"/>\n      <use xlink:href=\"#DejaVuSans-41\" x=\"494.091797\"/>\n      <use xlink:href=\"#DejaVuSans-63\" x=\"560.75\"/>\n      <use xlink:href=\"#DejaVuSans-63\" x=\"615.730469\"/>\n      <use xlink:href=\"#DejaVuSans-75\" x=\"670.710938\"/>\n      <use xlink:href=\"#DejaVuSans-72\" x=\"734.089844\"/>\n      <use xlink:href=\"#DejaVuSans-61\" x=\"775.203125\"/>\n      <use xlink:href=\"#DejaVuSans-63\" x=\"836.482422\"/>\n      <use xlink:href=\"#DejaVuSans-79\" x=\"891.462891\"/>\n      <use xlink:href=\"#DejaVuSans-20\" x=\"950.642578\"/>\n      <use xlink:href=\"#DejaVuSans-53\" x=\"982.429688\"/>\n      <use xlink:href=\"#DejaVuSans-63\" x=\"1045.90625\"/>\n      <use xlink:href=\"#DejaVuSans-6f\" x=\"1100.886719\"/>\n      <use xlink:href=\"#DejaVuSans-72\" x=\"1162.068359\"/>\n      <use xlink:href=\"#DejaVuSans-65\" x=\"1200.931641\"/>\n     </g>\n    </g>\n   </g>\n  </g>\n </g>\n <defs>\n  <clipPath id=\"pb6887d37d8\">\n   <rect x=\"43.78125\" y=\"22.318125\" width=\"558\" height=\"326.16\"/>\n  </clipPath>\n </defs>\n</svg>\n"
     },
     "metadata": {
      "needs_background": "light"
     },
     "output_type": "display_data"
    }
   ],
   "source": [
    "plt.figure(figsize=(10, 6))\n",
    "plt.semilogx(alphas, balanced_accuracy_scores, label='Balanced Accuracy Score')\n",
    "plt.scatter(best_alpha, best_baccuracy_score, color='red')\n",
    "plt.text(best_alpha, best_baccuracy_score, f'  Best Alpha={best_alpha:.2e}\\n  Score={best_baccuracy_score:.4f}', verticalalignment='bottom')\n",
    "plt.xlabel('Alpha')\n",
    "plt.ylabel('Balanced Accuracy Score')\n",
    "plt.title('Alpha vs Balanced Accuracy Score')\n",
    "plt.legend()\n",
    "plt.grid(True)\n",
    "plt.show()"
   ],
   "metadata": {
    "collapsed": false,
    "ExecuteTime": {
     "end_time": "2023-10-08T20:22:26.895255200Z",
     "start_time": "2023-10-08T20:22:26.625727Z"
    }
   }
  },
  {
   "cell_type": "markdown",
   "source": [
    "### Find the best max_feature value\n",
    "How do `max_feature` influences the balanced accuracy result?"
   ],
   "metadata": {
    "collapsed": false
   }
  },
  {
   "cell_type": "code",
   "execution_count": 115,
   "outputs": [
    {
     "name": "stdout",
     "output_type": "stream",
     "text": [
      "[BNB] Best Balanced_accuracy_score: 0.825170114405184\n",
      "[BNB] Best max_features: 3150\n"
     ]
    }
   ],
   "source": [
    "max_features = arange(100,5000,10)\n",
    "baccuracy_scores = []\n",
    "for max_feature in max_features:\n",
    "    # Count Vectorizer\n",
    "    vectorizer = CountVectorizer(stop_words='english', max_features=max_feature)\n",
    "    train_features = vectorizer.fit_transform(train_txt_preprocessed)\n",
    "    test_features = vectorizer.fit_transform(test_txt_preprocessed)\n",
    "\n",
    "    # Calculate TF-IDF value\n",
    "    tf_trans = feature_extraction.text.TfidfTransformer(use_idf=True, norm='l1')\n",
    "    trainX = tf_trans.fit_transform(train_features)\n",
    "    test_X = tf_trans.transform(test_features)\n",
    "\n",
    "    # Split validation data\n",
    "    X_train, X_valid, y_train, y_valid = train_test_split(trainX, trainY, stratify=trainY, test_size=0.65, random_state=0)\n",
    "\n",
    "    # Bernoulli Naive Bayes Classifier\n",
    "    model_bnb = naive_bayes.BernoulliNB(alpha=0.1)\n",
    "    model_bnb.fit(X_train,y_train)\n",
    "    y_pred_bnb = model_bnb.predict(X_valid)\n",
    "    acc_bnb = metrics.balanced_accuracy_score(y_valid,y_pred_bnb)\n",
    "    baccuracy_scores.append(acc_bnb)\n",
    "max_index = argmax(baccuracy_scores)\n",
    "best_baccuracy_score = baccuracy_scores[max_index]\n",
    "best_max_feature = max_features[max_index]\n",
    "\n",
    "print('[BNB] Best Balanced_accuracy_score:', best_baccuracy_score)\n",
    "print('[BNB] Best max_features:', best_max_feature)"
   ],
   "metadata": {
    "collapsed": false,
    "ExecuteTime": {
     "end_time": "2023-10-08T20:22:51.583865400Z",
     "start_time": "2023-10-08T20:22:26.897254Z"
    }
   }
  },
  {
   "cell_type": "markdown",
   "source": [
    "Now we know the best `max_feature` is 3150. The figure of Max_features vs Balanced Accuracy Score is shown below."
   ],
   "metadata": {
    "collapsed": false
   }
  },
  {
   "cell_type": "code",
   "execution_count": 116,
   "outputs": [
    {
     "data": {
      "text/plain": "<Figure size 720x432 with 1 Axes>",
      "image/svg+xml": "<?xml version=\"1.0\" encoding=\"utf-8\" standalone=\"no\"?>\n<!DOCTYPE svg PUBLIC \"-//W3C//DTD SVG 1.1//EN\"\n  \"http://www.w3.org/Graphics/SVG/1.1/DTD/svg11.dtd\">\n<svg xmlns:xlink=\"http://www.w3.org/1999/xlink\" width=\"648.311012pt\" height=\"386.3125pt\" viewBox=\"0 0 648.311012 386.3125\" xmlns=\"http://www.w3.org/2000/svg\" version=\"1.1\">\n <metadata>\n  <rdf:RDF xmlns:dc=\"http://purl.org/dc/elements/1.1/\" xmlns:cc=\"http://creativecommons.org/ns#\" xmlns:rdf=\"http://www.w3.org/1999/02/22-rdf-syntax-ns#\">\n   <cc:Work>\n    <dc:type rdf:resource=\"http://purl.org/dc/dcmitype/StillImage\"/>\n    <dc:date>2023-10-09T04:22:51.675377</dc:date>\n    <dc:format>image/svg+xml</dc:format>\n    <dc:creator>\n     <cc:Agent>\n      <dc:title>Matplotlib v3.5.1, https://matplotlib.org/</dc:title>\n     </cc:Agent>\n    </dc:creator>\n   </cc:Work>\n  </rdf:RDF>\n </metadata>\n <defs>\n  <style type=\"text/css\">*{stroke-linejoin: round; stroke-linecap: butt}</style>\n </defs>\n <g id=\"figure_1\">\n  <g id=\"patch_1\">\n   <path d=\"M 0 386.3125 \nL 648.311012 386.3125 \nL 648.311012 0 \nL 0 0 \nL 0 386.3125 \nz\n\" style=\"fill: none\"/>\n  </g>\n  <g id=\"axes_1\">\n   <g id=\"patch_2\">\n    <path d=\"M 50.14375 348.478125 \nL 608.14375 348.478125 \nL 608.14375 22.318125 \nL 50.14375 22.318125 \nz\n\" style=\"fill: #ffffff\"/>\n   </g>\n   <g id=\"PathCollection_1\">\n    <defs>\n     <path id=\"mccfef13efd\" d=\"M 0 3 \nC 0.795609 3 1.55874 2.683901 2.12132 2.12132 \nC 2.683901 1.55874 3 0.795609 3 0 \nC 3 -0.795609 2.683901 -1.55874 2.12132 -2.12132 \nC 1.55874 -2.683901 0.795609 -3 0 -3 \nC -0.795609 -3 -1.55874 -2.683901 -2.12132 -2.12132 \nC -2.683901 -1.55874 -3 -0.795609 -3 0 \nC -3 0.795609 -2.683901 1.55874 -2.12132 2.12132 \nC -1.55874 2.683901 -0.795609 3 0 3 \nz\n\" style=\"stroke: #ff0000\"/>\n    </defs>\n    <g clip-path=\"url(#p155c647c8a)\">\n     <use xlink:href=\"#mccfef13efd\" x=\"523.096949\" y=\"37.14358\" style=\"fill: #ff0000; stroke: #ff0000\"/>\n    </g>\n   </g>\n   <g id=\"matplotlib.axis_1\">\n    <g id=\"xtick_1\">\n     <g id=\"line2d_1\">\n      <path d=\"M 75.507386 348.478125 \nL 75.507386 22.318125 \n\" clip-path=\"url(#p155c647c8a)\" style=\"fill: none; stroke: #b0b0b0; stroke-width: 0.8; stroke-linecap: square\"/>\n     </g>\n     <g id=\"line2d_2\">\n      <defs>\n       <path id=\"mb4cf7defee\" d=\"M 0 0 \nL 0 3.5 \n\" style=\"stroke: #000000; stroke-width: 0.8\"/>\n      </defs>\n      <g>\n       <use xlink:href=\"#mb4cf7defee\" x=\"75.507386\" y=\"348.478125\" style=\"stroke: #000000; stroke-width: 0.8\"/>\n      </g>\n     </g>\n     <g id=\"text_1\">\n      <!-- $\\mathdefault{10^{2}}$ -->\n      <g transform=\"translate(66.707386 363.076562)scale(0.1 -0.1)\">\n       <defs>\n        <path id=\"DejaVuSans-31\" d=\"M 794 531 \nL 1825 531 \nL 1825 4091 \nL 703 3866 \nL 703 4441 \nL 1819 4666 \nL 2450 4666 \nL 2450 531 \nL 3481 531 \nL 3481 0 \nL 794 0 \nL 794 531 \nz\n\" transform=\"scale(0.015625)\"/>\n        <path id=\"DejaVuSans-30\" d=\"M 2034 4250 \nQ 1547 4250 1301 3770 \nQ 1056 3291 1056 2328 \nQ 1056 1369 1301 889 \nQ 1547 409 2034 409 \nQ 2525 409 2770 889 \nQ 3016 1369 3016 2328 \nQ 3016 3291 2770 3770 \nQ 2525 4250 2034 4250 \nz\nM 2034 4750 \nQ 2819 4750 3233 4129 \nQ 3647 3509 3647 2328 \nQ 3647 1150 3233 529 \nQ 2819 -91 2034 -91 \nQ 1250 -91 836 529 \nQ 422 1150 422 2328 \nQ 422 3509 836 4129 \nQ 1250 4750 2034 4750 \nz\n\" transform=\"scale(0.015625)\"/>\n        <path id=\"DejaVuSans-32\" d=\"M 1228 531 \nL 3431 531 \nL 3431 0 \nL 469 0 \nL 469 531 \nQ 828 903 1448 1529 \nQ 2069 2156 2228 2338 \nQ 2531 2678 2651 2914 \nQ 2772 3150 2772 3378 \nQ 2772 3750 2511 3984 \nQ 2250 4219 1831 4219 \nQ 1534 4219 1204 4116 \nQ 875 4013 500 3803 \nL 500 4441 \nQ 881 4594 1212 4672 \nQ 1544 4750 1819 4750 \nQ 2544 4750 2975 4387 \nQ 3406 4025 3406 3419 \nQ 3406 3131 3298 2873 \nQ 3191 2616 2906 2266 \nQ 2828 2175 2409 1742 \nQ 1991 1309 1228 531 \nz\n\" transform=\"scale(0.015625)\"/>\n       </defs>\n       <use xlink:href=\"#DejaVuSans-31\" transform=\"translate(0 0.765625)\"/>\n       <use xlink:href=\"#DejaVuSans-30\" transform=\"translate(63.623047 0.765625)\"/>\n       <use xlink:href=\"#DejaVuSans-32\" transform=\"translate(128.203125 39.046875)scale(0.7)\"/>\n      </g>\n     </g>\n    </g>\n    <g id=\"xtick_2\">\n     <g id=\"line2d_3\">\n      <path d=\"M 374.236887 348.478125 \nL 374.236887 22.318125 \n\" clip-path=\"url(#p155c647c8a)\" style=\"fill: none; stroke: #b0b0b0; stroke-width: 0.8; stroke-linecap: square\"/>\n     </g>\n     <g id=\"line2d_4\">\n      <g>\n       <use xlink:href=\"#mb4cf7defee\" x=\"374.236887\" y=\"348.478125\" style=\"stroke: #000000; stroke-width: 0.8\"/>\n      </g>\n     </g>\n     <g id=\"text_2\">\n      <!-- $\\mathdefault{10^{3}}$ -->\n      <g transform=\"translate(365.436887 363.076562)scale(0.1 -0.1)\">\n       <defs>\n        <path id=\"DejaVuSans-33\" d=\"M 2597 2516 \nQ 3050 2419 3304 2112 \nQ 3559 1806 3559 1356 \nQ 3559 666 3084 287 \nQ 2609 -91 1734 -91 \nQ 1441 -91 1130 -33 \nQ 819 25 488 141 \nL 488 750 \nQ 750 597 1062 519 \nQ 1375 441 1716 441 \nQ 2309 441 2620 675 \nQ 2931 909 2931 1356 \nQ 2931 1769 2642 2001 \nQ 2353 2234 1838 2234 \nL 1294 2234 \nL 1294 2753 \nL 1863 2753 \nQ 2328 2753 2575 2939 \nQ 2822 3125 2822 3475 \nQ 2822 3834 2567 4026 \nQ 2313 4219 1838 4219 \nQ 1578 4219 1281 4162 \nQ 984 4106 628 3988 \nL 628 4550 \nQ 988 4650 1302 4700 \nQ 1616 4750 1894 4750 \nQ 2613 4750 3031 4423 \nQ 3450 4097 3450 3541 \nQ 3450 3153 3228 2886 \nQ 3006 2619 2597 2516 \nz\n\" transform=\"scale(0.015625)\"/>\n       </defs>\n       <use xlink:href=\"#DejaVuSans-31\" transform=\"translate(0 0.765625)\"/>\n       <use xlink:href=\"#DejaVuSans-30\" transform=\"translate(63.623047 0.765625)\"/>\n       <use xlink:href=\"#DejaVuSans-33\" transform=\"translate(128.203125 39.046875)scale(0.7)\"/>\n      </g>\n     </g>\n    </g>\n    <g id=\"xtick_3\">\n     <g id=\"line2d_5\">\n      <defs>\n       <path id=\"ma986749c57\" d=\"M 0 0 \nL 0 2 \n\" style=\"stroke: #000000; stroke-width: 0.6\"/>\n      </defs>\n      <g>\n       <use xlink:href=\"#ma986749c57\" x=\"61.838274\" y=\"348.478125\" style=\"stroke: #000000; stroke-width: 0.6\"/>\n      </g>\n     </g>\n    </g>\n    <g id=\"xtick_4\">\n     <g id=\"line2d_6\">\n      <g>\n       <use xlink:href=\"#ma986749c57\" x=\"165.433927\" y=\"348.478125\" style=\"stroke: #000000; stroke-width: 0.6\"/>\n      </g>\n     </g>\n    </g>\n    <g id=\"xtick_5\">\n     <g id=\"line2d_7\">\n      <g>\n       <use xlink:href=\"#ma986749c57\" x=\"218.03758\" y=\"348.478125\" style=\"stroke: #000000; stroke-width: 0.6\"/>\n      </g>\n     </g>\n    </g>\n    <g id=\"xtick_6\">\n     <g id=\"line2d_8\">\n      <g>\n       <use xlink:href=\"#ma986749c57\" x=\"255.360467\" y=\"348.478125\" style=\"stroke: #000000; stroke-width: 0.6\"/>\n      </g>\n     </g>\n    </g>\n    <g id=\"xtick_7\">\n     <g id=\"line2d_9\">\n      <g>\n       <use xlink:href=\"#ma986749c57\" x=\"284.310346\" y=\"348.478125\" style=\"stroke: #000000; stroke-width: 0.6\"/>\n      </g>\n     </g>\n    </g>\n    <g id=\"xtick_8\">\n     <g id=\"line2d_10\">\n      <g>\n       <use xlink:href=\"#ma986749c57\" x=\"307.96412\" y=\"348.478125\" style=\"stroke: #000000; stroke-width: 0.6\"/>\n      </g>\n     </g>\n    </g>\n    <g id=\"xtick_9\">\n     <g id=\"line2d_11\">\n      <g>\n       <use xlink:href=\"#ma986749c57\" x=\"327.963101\" y=\"348.478125\" style=\"stroke: #000000; stroke-width: 0.6\"/>\n      </g>\n     </g>\n    </g>\n    <g id=\"xtick_10\">\n     <g id=\"line2d_12\">\n      <g>\n       <use xlink:href=\"#ma986749c57\" x=\"345.287007\" y=\"348.478125\" style=\"stroke: #000000; stroke-width: 0.6\"/>\n      </g>\n     </g>\n    </g>\n    <g id=\"xtick_11\">\n     <g id=\"line2d_13\">\n      <g>\n       <use xlink:href=\"#ma986749c57\" x=\"360.567774\" y=\"348.478125\" style=\"stroke: #000000; stroke-width: 0.6\"/>\n      </g>\n     </g>\n    </g>\n    <g id=\"xtick_12\">\n     <g id=\"line2d_14\">\n      <g>\n       <use xlink:href=\"#ma986749c57\" x=\"464.163427\" y=\"348.478125\" style=\"stroke: #000000; stroke-width: 0.6\"/>\n      </g>\n     </g>\n    </g>\n    <g id=\"xtick_13\">\n     <g id=\"line2d_15\">\n      <g>\n       <use xlink:href=\"#ma986749c57\" x=\"516.767081\" y=\"348.478125\" style=\"stroke: #000000; stroke-width: 0.6\"/>\n      </g>\n     </g>\n    </g>\n    <g id=\"xtick_14\">\n     <g id=\"line2d_16\">\n      <g>\n       <use xlink:href=\"#ma986749c57\" x=\"554.089967\" y=\"348.478125\" style=\"stroke: #000000; stroke-width: 0.6\"/>\n      </g>\n     </g>\n    </g>\n    <g id=\"xtick_15\">\n     <g id=\"line2d_17\">\n      <g>\n       <use xlink:href=\"#ma986749c57\" x=\"583.039847\" y=\"348.478125\" style=\"stroke: #000000; stroke-width: 0.6\"/>\n      </g>\n     </g>\n    </g>\n    <g id=\"xtick_16\">\n     <g id=\"line2d_18\">\n      <g>\n       <use xlink:href=\"#ma986749c57\" x=\"606.693621\" y=\"348.478125\" style=\"stroke: #000000; stroke-width: 0.6\"/>\n      </g>\n     </g>\n    </g>\n    <g id=\"text_3\">\n     <!-- Max_feature -->\n     <g transform=\"translate(298.257031 376.754687)scale(0.1 -0.1)\">\n      <defs>\n       <path id=\"DejaVuSans-4d\" d=\"M 628 4666 \nL 1569 4666 \nL 2759 1491 \nL 3956 4666 \nL 4897 4666 \nL 4897 0 \nL 4281 0 \nL 4281 4097 \nL 3078 897 \nL 2444 897 \nL 1241 4097 \nL 1241 0 \nL 628 0 \nL 628 4666 \nz\n\" transform=\"scale(0.015625)\"/>\n       <path id=\"DejaVuSans-61\" d=\"M 2194 1759 \nQ 1497 1759 1228 1600 \nQ 959 1441 959 1056 \nQ 959 750 1161 570 \nQ 1363 391 1709 391 \nQ 2188 391 2477 730 \nQ 2766 1069 2766 1631 \nL 2766 1759 \nL 2194 1759 \nz\nM 3341 1997 \nL 3341 0 \nL 2766 0 \nL 2766 531 \nQ 2569 213 2275 61 \nQ 1981 -91 1556 -91 \nQ 1019 -91 701 211 \nQ 384 513 384 1019 \nQ 384 1609 779 1909 \nQ 1175 2209 1959 2209 \nL 2766 2209 \nL 2766 2266 \nQ 2766 2663 2505 2880 \nQ 2244 3097 1772 3097 \nQ 1472 3097 1187 3025 \nQ 903 2953 641 2809 \nL 641 3341 \nQ 956 3463 1253 3523 \nQ 1550 3584 1831 3584 \nQ 2591 3584 2966 3190 \nQ 3341 2797 3341 1997 \nz\n\" transform=\"scale(0.015625)\"/>\n       <path id=\"DejaVuSans-78\" d=\"M 3513 3500 \nL 2247 1797 \nL 3578 0 \nL 2900 0 \nL 1881 1375 \nL 863 0 \nL 184 0 \nL 1544 1831 \nL 300 3500 \nL 978 3500 \nL 1906 2253 \nL 2834 3500 \nL 3513 3500 \nz\n\" transform=\"scale(0.015625)\"/>\n       <path id=\"DejaVuSans-5f\" d=\"M 3263 -1063 \nL 3263 -1509 \nL -63 -1509 \nL -63 -1063 \nL 3263 -1063 \nz\n\" transform=\"scale(0.015625)\"/>\n       <path id=\"DejaVuSans-66\" d=\"M 2375 4863 \nL 2375 4384 \nL 1825 4384 \nQ 1516 4384 1395 4259 \nQ 1275 4134 1275 3809 \nL 1275 3500 \nL 2222 3500 \nL 2222 3053 \nL 1275 3053 \nL 1275 0 \nL 697 0 \nL 697 3053 \nL 147 3053 \nL 147 3500 \nL 697 3500 \nL 697 3744 \nQ 697 4328 969 4595 \nQ 1241 4863 1831 4863 \nL 2375 4863 \nz\n\" transform=\"scale(0.015625)\"/>\n       <path id=\"DejaVuSans-65\" d=\"M 3597 1894 \nL 3597 1613 \nL 953 1613 \nQ 991 1019 1311 708 \nQ 1631 397 2203 397 \nQ 2534 397 2845 478 \nQ 3156 559 3463 722 \nL 3463 178 \nQ 3153 47 2828 -22 \nQ 2503 -91 2169 -91 \nQ 1331 -91 842 396 \nQ 353 884 353 1716 \nQ 353 2575 817 3079 \nQ 1281 3584 2069 3584 \nQ 2775 3584 3186 3129 \nQ 3597 2675 3597 1894 \nz\nM 3022 2063 \nQ 3016 2534 2758 2815 \nQ 2500 3097 2075 3097 \nQ 1594 3097 1305 2825 \nQ 1016 2553 972 2059 \nL 3022 2063 \nz\n\" transform=\"scale(0.015625)\"/>\n       <path id=\"DejaVuSans-74\" d=\"M 1172 4494 \nL 1172 3500 \nL 2356 3500 \nL 2356 3053 \nL 1172 3053 \nL 1172 1153 \nQ 1172 725 1289 603 \nQ 1406 481 1766 481 \nL 2356 481 \nL 2356 0 \nL 1766 0 \nQ 1100 0 847 248 \nQ 594 497 594 1153 \nL 594 3053 \nL 172 3053 \nL 172 3500 \nL 594 3500 \nL 594 4494 \nL 1172 4494 \nz\n\" transform=\"scale(0.015625)\"/>\n       <path id=\"DejaVuSans-75\" d=\"M 544 1381 \nL 544 3500 \nL 1119 3500 \nL 1119 1403 \nQ 1119 906 1312 657 \nQ 1506 409 1894 409 \nQ 2359 409 2629 706 \nQ 2900 1003 2900 1516 \nL 2900 3500 \nL 3475 3500 \nL 3475 0 \nL 2900 0 \nL 2900 538 \nQ 2691 219 2414 64 \nQ 2138 -91 1772 -91 \nQ 1169 -91 856 284 \nQ 544 659 544 1381 \nz\nM 1991 3584 \nL 1991 3584 \nz\n\" transform=\"scale(0.015625)\"/>\n       <path id=\"DejaVuSans-72\" d=\"M 2631 2963 \nQ 2534 3019 2420 3045 \nQ 2306 3072 2169 3072 \nQ 1681 3072 1420 2755 \nQ 1159 2438 1159 1844 \nL 1159 0 \nL 581 0 \nL 581 3500 \nL 1159 3500 \nL 1159 2956 \nQ 1341 3275 1631 3429 \nQ 1922 3584 2338 3584 \nQ 2397 3584 2469 3576 \nQ 2541 3569 2628 3553 \nL 2631 2963 \nz\n\" transform=\"scale(0.015625)\"/>\n      </defs>\n      <use xlink:href=\"#DejaVuSans-4d\"/>\n      <use xlink:href=\"#DejaVuSans-61\" x=\"86.279297\"/>\n      <use xlink:href=\"#DejaVuSans-78\" x=\"147.558594\"/>\n      <use xlink:href=\"#DejaVuSans-5f\" x=\"206.738281\"/>\n      <use xlink:href=\"#DejaVuSans-66\" x=\"256.738281\"/>\n      <use xlink:href=\"#DejaVuSans-65\" x=\"291.943359\"/>\n      <use xlink:href=\"#DejaVuSans-61\" x=\"353.466797\"/>\n      <use xlink:href=\"#DejaVuSans-74\" x=\"414.746094\"/>\n      <use xlink:href=\"#DejaVuSans-75\" x=\"453.955078\"/>\n      <use xlink:href=\"#DejaVuSans-72\" x=\"517.333984\"/>\n      <use xlink:href=\"#DejaVuSans-65\" x=\"556.197266\"/>\n     </g>\n    </g>\n   </g>\n   <g id=\"matplotlib.axis_2\">\n    <g id=\"ytick_1\">\n     <g id=\"line2d_19\">\n      <path d=\"M 50.14375 333.948101 \nL 608.14375 333.948101 \n\" clip-path=\"url(#p155c647c8a)\" style=\"fill: none; stroke: #b0b0b0; stroke-width: 0.8; stroke-linecap: square\"/>\n     </g>\n     <g id=\"line2d_20\">\n      <defs>\n       <path id=\"m5bdf8c17eb\" d=\"M 0 0 \nL -3.5 0 \n\" style=\"stroke: #000000; stroke-width: 0.8\"/>\n      </defs>\n      <g>\n       <use xlink:href=\"#m5bdf8c17eb\" x=\"50.14375\" y=\"333.948101\" style=\"stroke: #000000; stroke-width: 0.8\"/>\n      </g>\n     </g>\n     <g id=\"text_4\">\n      <!-- 0.74 -->\n      <g transform=\"translate(20.878125 337.74732)scale(0.1 -0.1)\">\n       <defs>\n        <path id=\"DejaVuSans-2e\" d=\"M 684 794 \nL 1344 794 \nL 1344 0 \nL 684 0 \nL 684 794 \nz\n\" transform=\"scale(0.015625)\"/>\n        <path id=\"DejaVuSans-37\" d=\"M 525 4666 \nL 3525 4666 \nL 3525 4397 \nL 1831 0 \nL 1172 0 \nL 2766 4134 \nL 525 4134 \nL 525 4666 \nz\n\" transform=\"scale(0.015625)\"/>\n        <path id=\"DejaVuSans-34\" d=\"M 2419 4116 \nL 825 1625 \nL 2419 1625 \nL 2419 4116 \nz\nM 2253 4666 \nL 3047 4666 \nL 3047 1625 \nL 3713 1625 \nL 3713 1100 \nL 3047 1100 \nL 3047 0 \nL 2419 0 \nL 2419 1100 \nL 313 1100 \nL 313 1709 \nL 2253 4666 \nz\n\" transform=\"scale(0.015625)\"/>\n       </defs>\n       <use xlink:href=\"#DejaVuSans-30\"/>\n       <use xlink:href=\"#DejaVuSans-2e\" x=\"63.623047\"/>\n       <use xlink:href=\"#DejaVuSans-37\" x=\"95.410156\"/>\n       <use xlink:href=\"#DejaVuSans-34\" x=\"159.033203\"/>\n      </g>\n     </g>\n    </g>\n    <g id=\"ytick_2\">\n     <g id=\"line2d_21\">\n      <path d=\"M 50.14375 264.251231 \nL 608.14375 264.251231 \n\" clip-path=\"url(#p155c647c8a)\" style=\"fill: none; stroke: #b0b0b0; stroke-width: 0.8; stroke-linecap: square\"/>\n     </g>\n     <g id=\"line2d_22\">\n      <g>\n       <use xlink:href=\"#m5bdf8c17eb\" x=\"50.14375\" y=\"264.251231\" style=\"stroke: #000000; stroke-width: 0.8\"/>\n      </g>\n     </g>\n     <g id=\"text_5\">\n      <!-- 0.76 -->\n      <g transform=\"translate(20.878125 268.050449)scale(0.1 -0.1)\">\n       <defs>\n        <path id=\"DejaVuSans-36\" d=\"M 2113 2584 \nQ 1688 2584 1439 2293 \nQ 1191 2003 1191 1497 \nQ 1191 994 1439 701 \nQ 1688 409 2113 409 \nQ 2538 409 2786 701 \nQ 3034 994 3034 1497 \nQ 3034 2003 2786 2293 \nQ 2538 2584 2113 2584 \nz\nM 3366 4563 \nL 3366 3988 \nQ 3128 4100 2886 4159 \nQ 2644 4219 2406 4219 \nQ 1781 4219 1451 3797 \nQ 1122 3375 1075 2522 \nQ 1259 2794 1537 2939 \nQ 1816 3084 2150 3084 \nQ 2853 3084 3261 2657 \nQ 3669 2231 3669 1497 \nQ 3669 778 3244 343 \nQ 2819 -91 2113 -91 \nQ 1303 -91 875 529 \nQ 447 1150 447 2328 \nQ 447 3434 972 4092 \nQ 1497 4750 2381 4750 \nQ 2619 4750 2861 4703 \nQ 3103 4656 3366 4563 \nz\n\" transform=\"scale(0.015625)\"/>\n       </defs>\n       <use xlink:href=\"#DejaVuSans-30\"/>\n       <use xlink:href=\"#DejaVuSans-2e\" x=\"63.623047\"/>\n       <use xlink:href=\"#DejaVuSans-37\" x=\"95.410156\"/>\n       <use xlink:href=\"#DejaVuSans-36\" x=\"159.033203\"/>\n      </g>\n     </g>\n    </g>\n    <g id=\"ytick_3\">\n     <g id=\"line2d_23\">\n      <path d=\"M 50.14375 194.55436 \nL 608.14375 194.55436 \n\" clip-path=\"url(#p155c647c8a)\" style=\"fill: none; stroke: #b0b0b0; stroke-width: 0.8; stroke-linecap: square\"/>\n     </g>\n     <g id=\"line2d_24\">\n      <g>\n       <use xlink:href=\"#m5bdf8c17eb\" x=\"50.14375\" y=\"194.55436\" style=\"stroke: #000000; stroke-width: 0.8\"/>\n      </g>\n     </g>\n     <g id=\"text_6\">\n      <!-- 0.78 -->\n      <g transform=\"translate(20.878125 198.353579)scale(0.1 -0.1)\">\n       <defs>\n        <path id=\"DejaVuSans-38\" d=\"M 2034 2216 \nQ 1584 2216 1326 1975 \nQ 1069 1734 1069 1313 \nQ 1069 891 1326 650 \nQ 1584 409 2034 409 \nQ 2484 409 2743 651 \nQ 3003 894 3003 1313 \nQ 3003 1734 2745 1975 \nQ 2488 2216 2034 2216 \nz\nM 1403 2484 \nQ 997 2584 770 2862 \nQ 544 3141 544 3541 \nQ 544 4100 942 4425 \nQ 1341 4750 2034 4750 \nQ 2731 4750 3128 4425 \nQ 3525 4100 3525 3541 \nQ 3525 3141 3298 2862 \nQ 3072 2584 2669 2484 \nQ 3125 2378 3379 2068 \nQ 3634 1759 3634 1313 \nQ 3634 634 3220 271 \nQ 2806 -91 2034 -91 \nQ 1263 -91 848 271 \nQ 434 634 434 1313 \nQ 434 1759 690 2068 \nQ 947 2378 1403 2484 \nz\nM 1172 3481 \nQ 1172 3119 1398 2916 \nQ 1625 2713 2034 2713 \nQ 2441 2713 2670 2916 \nQ 2900 3119 2900 3481 \nQ 2900 3844 2670 4047 \nQ 2441 4250 2034 4250 \nQ 1625 4250 1398 4047 \nQ 1172 3844 1172 3481 \nz\n\" transform=\"scale(0.015625)\"/>\n       </defs>\n       <use xlink:href=\"#DejaVuSans-30\"/>\n       <use xlink:href=\"#DejaVuSans-2e\" x=\"63.623047\"/>\n       <use xlink:href=\"#DejaVuSans-37\" x=\"95.410156\"/>\n       <use xlink:href=\"#DejaVuSans-38\" x=\"159.033203\"/>\n      </g>\n     </g>\n    </g>\n    <g id=\"ytick_4\">\n     <g id=\"line2d_25\">\n      <path d=\"M 50.14375 124.85749 \nL 608.14375 124.85749 \n\" clip-path=\"url(#p155c647c8a)\" style=\"fill: none; stroke: #b0b0b0; stroke-width: 0.8; stroke-linecap: square\"/>\n     </g>\n     <g id=\"line2d_26\">\n      <g>\n       <use xlink:href=\"#m5bdf8c17eb\" x=\"50.14375\" y=\"124.85749\" style=\"stroke: #000000; stroke-width: 0.8\"/>\n      </g>\n     </g>\n     <g id=\"text_7\">\n      <!-- 0.80 -->\n      <g transform=\"translate(20.878125 128.656708)scale(0.1 -0.1)\">\n       <use xlink:href=\"#DejaVuSans-30\"/>\n       <use xlink:href=\"#DejaVuSans-2e\" x=\"63.623047\"/>\n       <use xlink:href=\"#DejaVuSans-38\" x=\"95.410156\"/>\n       <use xlink:href=\"#DejaVuSans-30\" x=\"159.033203\"/>\n      </g>\n     </g>\n    </g>\n    <g id=\"ytick_5\">\n     <g id=\"line2d_27\">\n      <path d=\"M 50.14375 55.160619 \nL 608.14375 55.160619 \n\" clip-path=\"url(#p155c647c8a)\" style=\"fill: none; stroke: #b0b0b0; stroke-width: 0.8; stroke-linecap: square\"/>\n     </g>\n     <g id=\"line2d_28\">\n      <g>\n       <use xlink:href=\"#m5bdf8c17eb\" x=\"50.14375\" y=\"55.160619\" style=\"stroke: #000000; stroke-width: 0.8\"/>\n      </g>\n     </g>\n     <g id=\"text_8\">\n      <!-- 0.82 -->\n      <g transform=\"translate(20.878125 58.959838)scale(0.1 -0.1)\">\n       <use xlink:href=\"#DejaVuSans-30\"/>\n       <use xlink:href=\"#DejaVuSans-2e\" x=\"63.623047\"/>\n       <use xlink:href=\"#DejaVuSans-38\" x=\"95.410156\"/>\n       <use xlink:href=\"#DejaVuSans-32\" x=\"159.033203\"/>\n      </g>\n     </g>\n    </g>\n    <g id=\"text_9\">\n     <!-- Balanced Accuracy Score -->\n     <g transform=\"translate(14.798438 248.523125)rotate(-90)scale(0.1 -0.1)\">\n      <defs>\n       <path id=\"DejaVuSans-42\" d=\"M 1259 2228 \nL 1259 519 \nL 2272 519 \nQ 2781 519 3026 730 \nQ 3272 941 3272 1375 \nQ 3272 1813 3026 2020 \nQ 2781 2228 2272 2228 \nL 1259 2228 \nz\nM 1259 4147 \nL 1259 2741 \nL 2194 2741 \nQ 2656 2741 2882 2914 \nQ 3109 3088 3109 3444 \nQ 3109 3797 2882 3972 \nQ 2656 4147 2194 4147 \nL 1259 4147 \nz\nM 628 4666 \nL 2241 4666 \nQ 2963 4666 3353 4366 \nQ 3744 4066 3744 3513 \nQ 3744 3084 3544 2831 \nQ 3344 2578 2956 2516 \nQ 3422 2416 3680 2098 \nQ 3938 1781 3938 1306 \nQ 3938 681 3513 340 \nQ 3088 0 2303 0 \nL 628 0 \nL 628 4666 \nz\n\" transform=\"scale(0.015625)\"/>\n       <path id=\"DejaVuSans-6c\" d=\"M 603 4863 \nL 1178 4863 \nL 1178 0 \nL 603 0 \nL 603 4863 \nz\n\" transform=\"scale(0.015625)\"/>\n       <path id=\"DejaVuSans-6e\" d=\"M 3513 2113 \nL 3513 0 \nL 2938 0 \nL 2938 2094 \nQ 2938 2591 2744 2837 \nQ 2550 3084 2163 3084 \nQ 1697 3084 1428 2787 \nQ 1159 2491 1159 1978 \nL 1159 0 \nL 581 0 \nL 581 3500 \nL 1159 3500 \nL 1159 2956 \nQ 1366 3272 1645 3428 \nQ 1925 3584 2291 3584 \nQ 2894 3584 3203 3211 \nQ 3513 2838 3513 2113 \nz\n\" transform=\"scale(0.015625)\"/>\n       <path id=\"DejaVuSans-63\" d=\"M 3122 3366 \nL 3122 2828 \nQ 2878 2963 2633 3030 \nQ 2388 3097 2138 3097 \nQ 1578 3097 1268 2742 \nQ 959 2388 959 1747 \nQ 959 1106 1268 751 \nQ 1578 397 2138 397 \nQ 2388 397 2633 464 \nQ 2878 531 3122 666 \nL 3122 134 \nQ 2881 22 2623 -34 \nQ 2366 -91 2075 -91 \nQ 1284 -91 818 406 \nQ 353 903 353 1747 \nQ 353 2603 823 3093 \nQ 1294 3584 2113 3584 \nQ 2378 3584 2631 3529 \nQ 2884 3475 3122 3366 \nz\n\" transform=\"scale(0.015625)\"/>\n       <path id=\"DejaVuSans-64\" d=\"M 2906 2969 \nL 2906 4863 \nL 3481 4863 \nL 3481 0 \nL 2906 0 \nL 2906 525 \nQ 2725 213 2448 61 \nQ 2172 -91 1784 -91 \nQ 1150 -91 751 415 \nQ 353 922 353 1747 \nQ 353 2572 751 3078 \nQ 1150 3584 1784 3584 \nQ 2172 3584 2448 3432 \nQ 2725 3281 2906 2969 \nz\nM 947 1747 \nQ 947 1113 1208 752 \nQ 1469 391 1925 391 \nQ 2381 391 2643 752 \nQ 2906 1113 2906 1747 \nQ 2906 2381 2643 2742 \nQ 2381 3103 1925 3103 \nQ 1469 3103 1208 2742 \nQ 947 2381 947 1747 \nz\n\" transform=\"scale(0.015625)\"/>\n       <path id=\"DejaVuSans-20\" transform=\"scale(0.015625)\"/>\n       <path id=\"DejaVuSans-41\" d=\"M 2188 4044 \nL 1331 1722 \nL 3047 1722 \nL 2188 4044 \nz\nM 1831 4666 \nL 2547 4666 \nL 4325 0 \nL 3669 0 \nL 3244 1197 \nL 1141 1197 \nL 716 0 \nL 50 0 \nL 1831 4666 \nz\n\" transform=\"scale(0.015625)\"/>\n       <path id=\"DejaVuSans-79\" d=\"M 2059 -325 \nQ 1816 -950 1584 -1140 \nQ 1353 -1331 966 -1331 \nL 506 -1331 \nL 506 -850 \nL 844 -850 \nQ 1081 -850 1212 -737 \nQ 1344 -625 1503 -206 \nL 1606 56 \nL 191 3500 \nL 800 3500 \nL 1894 763 \nL 2988 3500 \nL 3597 3500 \nL 2059 -325 \nz\n\" transform=\"scale(0.015625)\"/>\n       <path id=\"DejaVuSans-53\" d=\"M 3425 4513 \nL 3425 3897 \nQ 3066 4069 2747 4153 \nQ 2428 4238 2131 4238 \nQ 1616 4238 1336 4038 \nQ 1056 3838 1056 3469 \nQ 1056 3159 1242 3001 \nQ 1428 2844 1947 2747 \nL 2328 2669 \nQ 3034 2534 3370 2195 \nQ 3706 1856 3706 1288 \nQ 3706 609 3251 259 \nQ 2797 -91 1919 -91 \nQ 1588 -91 1214 -16 \nQ 841 59 441 206 \nL 441 856 \nQ 825 641 1194 531 \nQ 1563 422 1919 422 \nQ 2459 422 2753 634 \nQ 3047 847 3047 1241 \nQ 3047 1584 2836 1778 \nQ 2625 1972 2144 2069 \nL 1759 2144 \nQ 1053 2284 737 2584 \nQ 422 2884 422 3419 \nQ 422 4038 858 4394 \nQ 1294 4750 2059 4750 \nQ 2388 4750 2728 4690 \nQ 3069 4631 3425 4513 \nz\n\" transform=\"scale(0.015625)\"/>\n       <path id=\"DejaVuSans-6f\" d=\"M 1959 3097 \nQ 1497 3097 1228 2736 \nQ 959 2375 959 1747 \nQ 959 1119 1226 758 \nQ 1494 397 1959 397 \nQ 2419 397 2687 759 \nQ 2956 1122 2956 1747 \nQ 2956 2369 2687 2733 \nQ 2419 3097 1959 3097 \nz\nM 1959 3584 \nQ 2709 3584 3137 3096 \nQ 3566 2609 3566 1747 \nQ 3566 888 3137 398 \nQ 2709 -91 1959 -91 \nQ 1206 -91 779 398 \nQ 353 888 353 1747 \nQ 353 2609 779 3096 \nQ 1206 3584 1959 3584 \nz\n\" transform=\"scale(0.015625)\"/>\n      </defs>\n      <use xlink:href=\"#DejaVuSans-42\"/>\n      <use xlink:href=\"#DejaVuSans-61\" x=\"68.603516\"/>\n      <use xlink:href=\"#DejaVuSans-6c\" x=\"129.882812\"/>\n      <use xlink:href=\"#DejaVuSans-61\" x=\"157.666016\"/>\n      <use xlink:href=\"#DejaVuSans-6e\" x=\"218.945312\"/>\n      <use xlink:href=\"#DejaVuSans-63\" x=\"282.324219\"/>\n      <use xlink:href=\"#DejaVuSans-65\" x=\"337.304688\"/>\n      <use xlink:href=\"#DejaVuSans-64\" x=\"398.828125\"/>\n      <use xlink:href=\"#DejaVuSans-20\" x=\"462.304688\"/>\n      <use xlink:href=\"#DejaVuSans-41\" x=\"494.091797\"/>\n      <use xlink:href=\"#DejaVuSans-63\" x=\"560.75\"/>\n      <use xlink:href=\"#DejaVuSans-63\" x=\"615.730469\"/>\n      <use xlink:href=\"#DejaVuSans-75\" x=\"670.710938\"/>\n      <use xlink:href=\"#DejaVuSans-72\" x=\"734.089844\"/>\n      <use xlink:href=\"#DejaVuSans-61\" x=\"775.203125\"/>\n      <use xlink:href=\"#DejaVuSans-63\" x=\"836.482422\"/>\n      <use xlink:href=\"#DejaVuSans-79\" x=\"891.462891\"/>\n      <use xlink:href=\"#DejaVuSans-20\" x=\"950.642578\"/>\n      <use xlink:href=\"#DejaVuSans-53\" x=\"982.429688\"/>\n      <use xlink:href=\"#DejaVuSans-63\" x=\"1045.90625\"/>\n      <use xlink:href=\"#DejaVuSans-6f\" x=\"1100.886719\"/>\n      <use xlink:href=\"#DejaVuSans-72\" x=\"1162.068359\"/>\n      <use xlink:href=\"#DejaVuSans-65\" x=\"1200.931641\"/>\n     </g>\n    </g>\n   </g>\n   <g id=\"line2d_29\">\n    <path d=\"M 75.507386 309.102596 \nL 87.872603 333.65267 \nL 99.16116 286.903822 \nL 109.545627 267.951994 \nL 119.160141 240.797952 \nL 128.11104 247.544509 \nL 136.484047 246.088851 \nL 144.349277 264.312851 \nL 151.764814 237.158809 \nL 158.77931 243.905365 \nL 165.433927 255.214993 \nL 171.763795 258.294123 \nL 177.799143 226.57701 \nL 183.566162 228.032667 \nL 189.087701 235.674868 \nL 194.383806 195.252095 \nL 199.472167 215.827396 \nL 204.368468 208.185195 \nL 209.086682 215.099567 \nL 213.639309 205.833894 \nL 218.03758 196.56822 \nL 222.29162 204.210421 \nL 226.410587 190.549492 \nL 230.402796 190.549492 \nL 234.275818 184.530764 \nL 238.036561 183.802936 \nL 241.691354 139.152723 \nL 245.246003 121.349205 \nL 248.70585 125.016631 \nL 252.075821 125.016631 \nL 255.360467 117.374431 \nL 258.564002 90.052573 \nL 261.690335 112.979175 \nL 264.743101 104.609146 \nL 267.725683 104.609146 \nL 270.641234 100.213891 \nL 273.492702 100.213891 \nL 279.014241 84.929489 \nL 281.689316 78.742946 \nL 284.310346 87.112975 \nL 289.398707 87.112975 \nL 291.869955 94.027347 \nL 294.295008 93.299519 \nL 296.675563 100.941719 \nL 299.013222 101.669548 \nL 301.309504 101.669548 \nL 303.565849 94.027347 \nL 305.783623 94.027347 \nL 307.96412 86.385147 \nL 310.108575 94.027347 \nL 312.21816 87.112975 \nL 314.293989 86.385147 \nL 316.337127 86.385147 \nL 318.348587 85.657318 \nL 320.329337 85.657318 \nL 322.280299 91.843861 \nL 324.202358 99.486062 \nL 326.096356 91.843861 \nL 327.963101 91.843861 \nL 329.803367 97.862589 \nL 333.407393 97.862589 \nL 335.172544 111.691334 \nL 336.914 120.061363 \nL 338.632391 112.419162 \nL 340.328318 120.061363 \nL 342.002361 142.987965 \nL 351.616876 142.987965 \nL 353.152238 150.630166 \nL 354.669642 142.260136 \nL 356.169503 148.278864 \nL 359.118189 148.278864 \nL 360.567774 132.994463 \nL 363.419242 134.45012 \nL 364.821814 133.722292 \nL 370.285213 133.722292 \nL 371.615857 126.080091 \nL 372.93299 126.080091 \nL 374.236887 120.061363 \nL 375.527808 126.975735 \nL 379.325247 126.975735 \nL 380.566755 119.333534 \nL 381.796495 101.109535 \nL 384.221548 115.666108 \nL 385.417286 116.393936 \nL 387.776197 116.393936 \nL 388.939762 101.109535 \nL 400.035116 101.109535 \nL 401.094196 95.090807 \nL 407.273295 95.090807 \nL 408.275127 95.818635 \nL 409.269282 103.460836 \nL 410.255877 103.460836 \nL 411.235025 97.274293 \nL 415.079353 97.274293 \nL 416.022896 98.002121 \nL 418.813038 98.002121 \nL 419.729908 90.359921 \nL 424.21951 90.359921 \nL 425.972734 91.815578 \nL 426.84054 84.173377 \nL 431.928901 84.173377 \nL 432.757892 84.901206 \nL 438.417082 84.901206 \nL 439.205757 77.259005 \nL 439.989666 84.173377 \nL 442.313368 84.173377 \nL 443.078778 75.803348 \nL 445.34828 75.803348 \nL 446.096043 68.161147 \nL 446.839521 68.888976 \nL 449.044729 68.888976 \nL 449.771546 68.161147 \nL 450.494314 68.888976 \nL 453.345782 68.888976 \nL 454.048963 69.616804 \nL 455.443994 69.616804 \nL 456.135924 61.246775 \nL 456.824183 61.246775 \nL 457.50881 62.702432 \nL 458.867321 62.702432 \nL 459.541279 63.430261 \nL 462.859531 63.430261 \nL 463.513117 71.072462 \nL 468.62655 71.072462 \nL 469.251788 62.702432 \nL 469.874027 62.702432 \nL 470.493295 63.430261 \nL 471.109622 63.430261 \nL 471.723035 57.411533 \nL 472.333561 57.411533 \nL 472.941228 56.683704 \nL 474.148088 56.683704 \nL 474.747335 57.411533 \nL 476.528643 57.411533 \nL 477.117018 58.139362 \nL 477.702738 58.139362 \nL 478.285824 51.22499 \nL 478.866302 51.22499 \nL 479.444194 50.497161 \nL 480.019524 50.497161 \nL 480.592313 52.120634 \nL 481.162585 50.497161 \nL 481.73036 52.120634 \nL 482.858512 52.120634 \nL 483.41893 50.497161 \nL 483.976937 49.769332 \nL 484.532555 50.664976 \nL 485.636703 50.664976 \nL 486.185273 65.949378 \nL 488.356647 65.949378 \nL 488.893859 66.677206 \nL 492.07124 66.677206 \nL 492.593319 67.405035 \nL 493.113306 67.405035 \nL 493.631218 66.677206 \nL 499.195822 66.677206 \nL 499.690057 67.405035 \nL 500.182417 67.405035 \nL 500.672915 68.132864 \nL 501.161566 68.132864 \nL 502.13338 56.095408 \nL 502.61657 56.823236 \nL 503.577586 56.823236 \nL 504.055438 56.095408 \nL 505.005893 56.095408 \nL 505.478523 63.737608 \nL 505.949436 63.737608 \nL 506.418647 69.756336 \nL 508.278701 69.756336 \nL 508.739578 70.484165 \nL 509.198823 70.484165 \nL 509.656448 71.211994 \nL 510.112464 71.211994 \nL 510.566884 70.484165 \nL 511.470975 70.484165 \nL 511.920669 71.211994 \nL 512.815407 71.211994 \nL 513.260473 65.193266 \nL 513.704017 64.465437 \nL 514.586583 64.465437 \nL 515.025624 63.737608 \nL 515.463184 63.737608 \nL 515.899274 56.095408 \nL 517.198817 56.095408 \nL 517.629121 56.823236 \nL 520.601938 56.823236 \nL 521.02112 38.767052 \nL 521.855441 38.767052 \nL 522.270599 44.78578 \nL 522.684432 44.78578 \nL 523.096949 37.14358 \nL 523.91807 52.427981 \nL 524.734026 52.427981 \nL 525.140087 53.15581 \nL 525.948417 37.871408 \nL 527.151547 37.871408 \nL 527.550124 39.494881 \nL 527.94748 47.137082 \nL 528.343622 46.409253 \nL 531.469956 46.409253 \nL 531.855503 38.767052 \nL 532.239908 38.767052 \nL 532.623177 38.039224 \nL 533.386336 38.039224 \nL 533.766238 38.767052 \nL 534.145031 38.767052 \nL 534.522722 53.323625 \nL 535.27482 53.323625 \nL 535.649241 54.051454 \nL 537.136209 54.051454 \nL 537.505303 53.323625 \nL 538.606327 53.323625 \nL 538.971269 52.595796 \nL 539.335187 44.953596 \nL 539.698086 52.595796 \nL 540.059974 52.595796 \nL 540.420855 60.237997 \nL 540.780734 60.237997 \nL 541.139619 54.219269 \nL 541.497513 54.219269 \nL 541.854422 48.92837 \nL 542.210353 48.92837 \nL 542.56531 56.57057 \nL 542.919298 57.298399 \nL 545.02318 57.298399 \nL 545.370534 65.668428 \nL 545.71696 65.668428 \nL 546.062464 59.6497 \nL 547.435351 59.6497 \nL 547.776314 65.668428 \nL 548.116384 59.6497 \nL 548.455565 60.377529 \nL 549.131278 60.377529 \nL 549.467819 61.105358 \nL 551.137553 61.105358 \nL 551.468937 61.833186 \nL 551.799476 61.105358 \nL 552.129175 61.105358 \nL 552.458039 68.747558 \nL 552.786071 69.475387 \nL 553.113275 69.475387 \nL 553.439657 70.203216 \nL 553.765219 70.203216 \nL 554.413904 71.658873 \nL 555.05936 71.658873 \nL 555.380889 64.016672 \nL 557.293502 64.016672 \nL 557.609547 63.288844 \nL 558.866086 63.288844 \nL 559.178328 70.931044 \nL 561.036162 70.931044 \nL 561.343231 76.949772 \nL 561.649575 78.573245 \nL 563.170537 78.573245 \nL 563.472602 77.845416 \nL 566.749704 77.845416 \nL 567.043558 85.487617 \nL 567.336749 84.759788 \nL 568.212364 84.759788 \nL 568.502928 114.853428 \nL 568.792842 107.211228 \nL 571.089125 107.211228 \nL 571.373323 107.939056 \nL 574.736014 107.939056 \nL 575.012344 108.666885 \nL 575.837818 108.666885 \nL 576.38523 123.951286 \nL 576.658073 124.679115 \nL 577.202043 124.679115 \nL 577.473174 123.951286 \nL 577.743741 123.951286 \nL 578.013744 124.679115 \nL 578.552071 124.679115 \nL 578.820399 125.406944 \nL 579.088173 125.406944 \nL 579.355396 126.134772 \nL 579.888196 124.679115 \nL 580.683315 124.679115 \nL 580.947276 125.406944 \nL 581.2107 117.764743 \nL 581.473591 118.492572 \nL 581.73595 118.492572 \nL 581.99778 119.2204 \nL 582.259083 126.862601 \nL 582.51986 127.59043 \nL 582.780114 127.59043 \nL 582.780114 127.59043 \n\" clip-path=\"url(#p155c647c8a)\" style=\"fill: none; stroke: #1f77b4; stroke-width: 1.5; stroke-linecap: square\"/>\n   </g>\n   <g id=\"patch_3\">\n    <path d=\"M 50.14375 348.478125 \nL 50.14375 22.318125 \n\" style=\"fill: none; stroke: #000000; stroke-width: 0.8; stroke-linejoin: miter; stroke-linecap: square\"/>\n   </g>\n   <g id=\"patch_4\">\n    <path d=\"M 608.14375 348.478125 \nL 608.14375 22.318125 \n\" style=\"fill: none; stroke: #000000; stroke-width: 0.8; stroke-linejoin: miter; stroke-linecap: square\"/>\n   </g>\n   <g id=\"patch_5\">\n    <path d=\"M 50.14375 348.478125 \nL 608.14375 348.478125 \n\" style=\"fill: none; stroke: #000000; stroke-width: 0.8; stroke-linejoin: miter; stroke-linecap: square\"/>\n   </g>\n   <g id=\"patch_6\">\n    <path d=\"M 50.14375 22.318125 \nL 608.14375 22.318125 \n\" style=\"fill: none; stroke: #000000; stroke-width: 0.8; stroke-linejoin: miter; stroke-linecap: square\"/>\n   </g>\n   <g id=\"text_10\">\n    <!--   Best Alpha=3.15e+03 -->\n    <g transform=\"translate(523.096949 23.86608)scale(0.1 -0.1)\">\n     <defs>\n      <path id=\"DejaVuSans-73\" d=\"M 2834 3397 \nL 2834 2853 \nQ 2591 2978 2328 3040 \nQ 2066 3103 1784 3103 \nQ 1356 3103 1142 2972 \nQ 928 2841 928 2578 \nQ 928 2378 1081 2264 \nQ 1234 2150 1697 2047 \nL 1894 2003 \nQ 2506 1872 2764 1633 \nQ 3022 1394 3022 966 \nQ 3022 478 2636 193 \nQ 2250 -91 1575 -91 \nQ 1294 -91 989 -36 \nQ 684 19 347 128 \nL 347 722 \nQ 666 556 975 473 \nQ 1284 391 1588 391 \nQ 1994 391 2212 530 \nQ 2431 669 2431 922 \nQ 2431 1156 2273 1281 \nQ 2116 1406 1581 1522 \nL 1381 1569 \nQ 847 1681 609 1914 \nQ 372 2147 372 2553 \nQ 372 3047 722 3315 \nQ 1072 3584 1716 3584 \nQ 2034 3584 2315 3537 \nQ 2597 3491 2834 3397 \nz\n\" transform=\"scale(0.015625)\"/>\n      <path id=\"DejaVuSans-70\" d=\"M 1159 525 \nL 1159 -1331 \nL 581 -1331 \nL 581 3500 \nL 1159 3500 \nL 1159 2969 \nQ 1341 3281 1617 3432 \nQ 1894 3584 2278 3584 \nQ 2916 3584 3314 3078 \nQ 3713 2572 3713 1747 \nQ 3713 922 3314 415 \nQ 2916 -91 2278 -91 \nQ 1894 -91 1617 61 \nQ 1341 213 1159 525 \nz\nM 3116 1747 \nQ 3116 2381 2855 2742 \nQ 2594 3103 2138 3103 \nQ 1681 3103 1420 2742 \nQ 1159 2381 1159 1747 \nQ 1159 1113 1420 752 \nQ 1681 391 2138 391 \nQ 2594 391 2855 752 \nQ 3116 1113 3116 1747 \nz\n\" transform=\"scale(0.015625)\"/>\n      <path id=\"DejaVuSans-68\" d=\"M 3513 2113 \nL 3513 0 \nL 2938 0 \nL 2938 2094 \nQ 2938 2591 2744 2837 \nQ 2550 3084 2163 3084 \nQ 1697 3084 1428 2787 \nQ 1159 2491 1159 1978 \nL 1159 0 \nL 581 0 \nL 581 4863 \nL 1159 4863 \nL 1159 2956 \nQ 1366 3272 1645 3428 \nQ 1925 3584 2291 3584 \nQ 2894 3584 3203 3211 \nQ 3513 2838 3513 2113 \nz\n\" transform=\"scale(0.015625)\"/>\n      <path id=\"DejaVuSans-3d\" d=\"M 678 2906 \nL 4684 2906 \nL 4684 2381 \nL 678 2381 \nL 678 2906 \nz\nM 678 1631 \nL 4684 1631 \nL 4684 1100 \nL 678 1100 \nL 678 1631 \nz\n\" transform=\"scale(0.015625)\"/>\n      <path id=\"DejaVuSans-35\" d=\"M 691 4666 \nL 3169 4666 \nL 3169 4134 \nL 1269 4134 \nL 1269 2991 \nQ 1406 3038 1543 3061 \nQ 1681 3084 1819 3084 \nQ 2600 3084 3056 2656 \nQ 3513 2228 3513 1497 \nQ 3513 744 3044 326 \nQ 2575 -91 1722 -91 \nQ 1428 -91 1123 -41 \nQ 819 9 494 109 \nL 494 744 \nQ 775 591 1075 516 \nQ 1375 441 1709 441 \nQ 2250 441 2565 725 \nQ 2881 1009 2881 1497 \nQ 2881 1984 2565 2268 \nQ 2250 2553 1709 2553 \nQ 1456 2553 1204 2497 \nQ 953 2441 691 2322 \nL 691 4666 \nz\n\" transform=\"scale(0.015625)\"/>\n      <path id=\"DejaVuSans-2b\" d=\"M 2944 4013 \nL 2944 2272 \nL 4684 2272 \nL 4684 1741 \nL 2944 1741 \nL 2944 0 \nL 2419 0 \nL 2419 1741 \nL 678 1741 \nL 678 2272 \nL 2419 2272 \nL 2419 4013 \nL 2944 4013 \nz\n\" transform=\"scale(0.015625)\"/>\n     </defs>\n     <use xlink:href=\"#DejaVuSans-20\"/>\n     <use xlink:href=\"#DejaVuSans-20\" x=\"31.787109\"/>\n     <use xlink:href=\"#DejaVuSans-42\" x=\"63.574219\"/>\n     <use xlink:href=\"#DejaVuSans-65\" x=\"132.177734\"/>\n     <use xlink:href=\"#DejaVuSans-73\" x=\"193.701172\"/>\n     <use xlink:href=\"#DejaVuSans-74\" x=\"245.800781\"/>\n     <use xlink:href=\"#DejaVuSans-20\" x=\"285.009766\"/>\n     <use xlink:href=\"#DejaVuSans-41\" x=\"316.796875\"/>\n     <use xlink:href=\"#DejaVuSans-6c\" x=\"385.205078\"/>\n     <use xlink:href=\"#DejaVuSans-70\" x=\"412.988281\"/>\n     <use xlink:href=\"#DejaVuSans-68\" x=\"476.464844\"/>\n     <use xlink:href=\"#DejaVuSans-61\" x=\"539.84375\"/>\n     <use xlink:href=\"#DejaVuSans-3d\" x=\"601.123047\"/>\n     <use xlink:href=\"#DejaVuSans-33\" x=\"684.912109\"/>\n     <use xlink:href=\"#DejaVuSans-2e\" x=\"748.535156\"/>\n     <use xlink:href=\"#DejaVuSans-31\" x=\"780.322266\"/>\n     <use xlink:href=\"#DejaVuSans-35\" x=\"843.945312\"/>\n     <use xlink:href=\"#DejaVuSans-65\" x=\"907.568359\"/>\n     <use xlink:href=\"#DejaVuSans-2b\" x=\"969.091797\"/>\n     <use xlink:href=\"#DejaVuSans-30\" x=\"1052.880859\"/>\n     <use xlink:href=\"#DejaVuSans-33\" x=\"1116.503906\"/>\n    </g>\n    <!--   Score=0.8252 -->\n    <g transform=\"translate(523.096949 35.063892)scale(0.1 -0.1)\">\n     <use xlink:href=\"#DejaVuSans-20\"/>\n     <use xlink:href=\"#DejaVuSans-20\" x=\"31.787109\"/>\n     <use xlink:href=\"#DejaVuSans-53\" x=\"63.574219\"/>\n     <use xlink:href=\"#DejaVuSans-63\" x=\"127.050781\"/>\n     <use xlink:href=\"#DejaVuSans-6f\" x=\"182.03125\"/>\n     <use xlink:href=\"#DejaVuSans-72\" x=\"243.212891\"/>\n     <use xlink:href=\"#DejaVuSans-65\" x=\"282.076172\"/>\n     <use xlink:href=\"#DejaVuSans-3d\" x=\"343.599609\"/>\n     <use xlink:href=\"#DejaVuSans-30\" x=\"427.388672\"/>\n     <use xlink:href=\"#DejaVuSans-2e\" x=\"491.011719\"/>\n     <use xlink:href=\"#DejaVuSans-38\" x=\"522.798828\"/>\n     <use xlink:href=\"#DejaVuSans-32\" x=\"586.421875\"/>\n     <use xlink:href=\"#DejaVuSans-35\" x=\"650.044922\"/>\n     <use xlink:href=\"#DejaVuSans-32\" x=\"713.667969\"/>\n    </g>\n   </g>\n   <g id=\"text_11\">\n    <!-- Max_feature vs Balanced Accuracy Score -->\n    <g transform=\"translate(205.839063 16.318125)scale(0.12 -0.12)\">\n     <defs>\n      <path id=\"DejaVuSans-76\" d=\"M 191 3500 \nL 800 3500 \nL 1894 563 \nL 2988 3500 \nL 3597 3500 \nL 2284 0 \nL 1503 0 \nL 191 3500 \nz\n\" transform=\"scale(0.015625)\"/>\n     </defs>\n     <use xlink:href=\"#DejaVuSans-4d\"/>\n     <use xlink:href=\"#DejaVuSans-61\" x=\"86.279297\"/>\n     <use xlink:href=\"#DejaVuSans-78\" x=\"147.558594\"/>\n     <use xlink:href=\"#DejaVuSans-5f\" x=\"206.738281\"/>\n     <use xlink:href=\"#DejaVuSans-66\" x=\"256.738281\"/>\n     <use xlink:href=\"#DejaVuSans-65\" x=\"291.943359\"/>\n     <use xlink:href=\"#DejaVuSans-61\" x=\"353.466797\"/>\n     <use xlink:href=\"#DejaVuSans-74\" x=\"414.746094\"/>\n     <use xlink:href=\"#DejaVuSans-75\" x=\"453.955078\"/>\n     <use xlink:href=\"#DejaVuSans-72\" x=\"517.333984\"/>\n     <use xlink:href=\"#DejaVuSans-65\" x=\"556.197266\"/>\n     <use xlink:href=\"#DejaVuSans-20\" x=\"617.720703\"/>\n     <use xlink:href=\"#DejaVuSans-76\" x=\"649.507812\"/>\n     <use xlink:href=\"#DejaVuSans-73\" x=\"708.6875\"/>\n     <use xlink:href=\"#DejaVuSans-20\" x=\"760.787109\"/>\n     <use xlink:href=\"#DejaVuSans-42\" x=\"792.574219\"/>\n     <use xlink:href=\"#DejaVuSans-61\" x=\"861.177734\"/>\n     <use xlink:href=\"#DejaVuSans-6c\" x=\"922.457031\"/>\n     <use xlink:href=\"#DejaVuSans-61\" x=\"950.240234\"/>\n     <use xlink:href=\"#DejaVuSans-6e\" x=\"1011.519531\"/>\n     <use xlink:href=\"#DejaVuSans-63\" x=\"1074.898438\"/>\n     <use xlink:href=\"#DejaVuSans-65\" x=\"1129.878906\"/>\n     <use xlink:href=\"#DejaVuSans-64\" x=\"1191.402344\"/>\n     <use xlink:href=\"#DejaVuSans-20\" x=\"1254.878906\"/>\n     <use xlink:href=\"#DejaVuSans-41\" x=\"1286.666016\"/>\n     <use xlink:href=\"#DejaVuSans-63\" x=\"1353.324219\"/>\n     <use xlink:href=\"#DejaVuSans-63\" x=\"1408.304688\"/>\n     <use xlink:href=\"#DejaVuSans-75\" x=\"1463.285156\"/>\n     <use xlink:href=\"#DejaVuSans-72\" x=\"1526.664062\"/>\n     <use xlink:href=\"#DejaVuSans-61\" x=\"1567.777344\"/>\n     <use xlink:href=\"#DejaVuSans-63\" x=\"1629.056641\"/>\n     <use xlink:href=\"#DejaVuSans-79\" x=\"1684.037109\"/>\n     <use xlink:href=\"#DejaVuSans-20\" x=\"1743.216797\"/>\n     <use xlink:href=\"#DejaVuSans-53\" x=\"1775.003906\"/>\n     <use xlink:href=\"#DejaVuSans-63\" x=\"1838.480469\"/>\n     <use xlink:href=\"#DejaVuSans-6f\" x=\"1893.460938\"/>\n     <use xlink:href=\"#DejaVuSans-72\" x=\"1954.642578\"/>\n     <use xlink:href=\"#DejaVuSans-65\" x=\"1993.505859\"/>\n    </g>\n   </g>\n   <g id=\"legend_1\">\n    <g id=\"patch_7\">\n     <path d=\"M 57.14375 44.99625 \nL 215.39375 44.99625 \nQ 217.39375 44.99625 217.39375 42.99625 \nL 217.39375 29.318125 \nQ 217.39375 27.318125 215.39375 27.318125 \nL 57.14375 27.318125 \nQ 55.14375 27.318125 55.14375 29.318125 \nL 55.14375 42.99625 \nQ 55.14375 44.99625 57.14375 44.99625 \nz\n\" style=\"fill: #ffffff; opacity: 0.8; stroke: #cccccc; stroke-linejoin: miter\"/>\n    </g>\n    <g id=\"line2d_30\">\n     <path d=\"M 59.14375 35.416562 \nL 69.14375 35.416562 \nL 79.14375 35.416562 \n\" style=\"fill: none; stroke: #1f77b4; stroke-width: 1.5; stroke-linecap: square\"/>\n    </g>\n    <g id=\"text_12\">\n     <!-- Balanced Accuracy Score -->\n     <g transform=\"translate(87.14375 38.916562)scale(0.1 -0.1)\">\n      <use xlink:href=\"#DejaVuSans-42\"/>\n      <use xlink:href=\"#DejaVuSans-61\" x=\"68.603516\"/>\n      <use xlink:href=\"#DejaVuSans-6c\" x=\"129.882812\"/>\n      <use xlink:href=\"#DejaVuSans-61\" x=\"157.666016\"/>\n      <use xlink:href=\"#DejaVuSans-6e\" x=\"218.945312\"/>\n      <use xlink:href=\"#DejaVuSans-63\" x=\"282.324219\"/>\n      <use xlink:href=\"#DejaVuSans-65\" x=\"337.304688\"/>\n      <use xlink:href=\"#DejaVuSans-64\" x=\"398.828125\"/>\n      <use xlink:href=\"#DejaVuSans-20\" x=\"462.304688\"/>\n      <use xlink:href=\"#DejaVuSans-41\" x=\"494.091797\"/>\n      <use xlink:href=\"#DejaVuSans-63\" x=\"560.75\"/>\n      <use xlink:href=\"#DejaVuSans-63\" x=\"615.730469\"/>\n      <use xlink:href=\"#DejaVuSans-75\" x=\"670.710938\"/>\n      <use xlink:href=\"#DejaVuSans-72\" x=\"734.089844\"/>\n      <use xlink:href=\"#DejaVuSans-61\" x=\"775.203125\"/>\n      <use xlink:href=\"#DejaVuSans-63\" x=\"836.482422\"/>\n      <use xlink:href=\"#DejaVuSans-79\" x=\"891.462891\"/>\n      <use xlink:href=\"#DejaVuSans-20\" x=\"950.642578\"/>\n      <use xlink:href=\"#DejaVuSans-53\" x=\"982.429688\"/>\n      <use xlink:href=\"#DejaVuSans-63\" x=\"1045.90625\"/>\n      <use xlink:href=\"#DejaVuSans-6f\" x=\"1100.886719\"/>\n      <use xlink:href=\"#DejaVuSans-72\" x=\"1162.068359\"/>\n      <use xlink:href=\"#DejaVuSans-65\" x=\"1200.931641\"/>\n     </g>\n    </g>\n   </g>\n  </g>\n </g>\n <defs>\n  <clipPath id=\"p155c647c8a\">\n   <rect x=\"50.14375\" y=\"22.318125\" width=\"558\" height=\"326.16\"/>\n  </clipPath>\n </defs>\n</svg>\n"
     },
     "metadata": {
      "needs_background": "light"
     },
     "output_type": "display_data"
    }
   ],
   "source": [
    "plt.figure(figsize=(10, 6))\n",
    "plt.semilogx(max_features, baccuracy_scores, label='Balanced Accuracy Score')\n",
    "plt.scatter(best_max_feature, best_baccuracy_score, color='red')\n",
    "plt.text(best_max_feature, best_baccuracy_score, f'  Best Alpha={best_max_feature:.2e}\\n  Score={best_baccuracy_score:.4f}', verticalalignment='bottom')\n",
    "plt.xlabel('Max_feature')\n",
    "plt.ylabel('Balanced Accuracy Score')\n",
    "plt.title('Max_feature vs Balanced Accuracy Score')\n",
    "plt.legend()\n",
    "plt.grid(True)\n",
    "plt.show()"
   ],
   "metadata": {
    "collapsed": false,
    "ExecuteTime": {
     "end_time": "2023-10-08T20:22:51.725377600Z",
     "start_time": "2023-10-08T20:22:51.583865400Z"
    }
   }
  },
  {
   "cell_type": "markdown",
   "source": [
    "Therefore, we can train model and predict the test data using the best `alpha` and the best `max_feature`."
   ],
   "metadata": {
    "collapsed": false
   }
  },
  {
   "cell_type": "code",
   "execution_count": 5,
   "outputs": [],
   "source": [
    "train_txt_preprocessed = [preprocess(s) for s in traintxt]\n",
    "test_txt_preprocessed = [preprocess(s) for s in testtxt]\n",
    "\n",
    "# Count Vectorizer\n",
    "vectorizer = CountVectorizer(stop_words='english', max_features=3150)\n",
    "train_features = vectorizer.fit_transform(train_txt_preprocessed)\n",
    "test_features = vectorizer.transform(test_txt_preprocessed)\n",
    "\n",
    "# Calculate TF-IDF value\n",
    "tf_trans = feature_extraction.text.TfidfTransformer(use_idf=True, norm='l1')\n",
    "train_X = tf_trans.fit_transform(train_features)\n",
    "test_X = tf_trans.transform(test_features)\n",
    "\n",
    "# Train BernoulliNB\n",
    "model_bnb = naive_bayes.BernoulliNB(alpha=0.1)\n",
    "model_bnb.fit(train_X,trainY)\n",
    "y_pred_bnb = model_bnb.predict(test_X)"
   ],
   "metadata": {
    "collapsed": false,
    "ExecuteTime": {
     "end_time": "2023-10-08T20:33:18.930259700Z",
     "start_time": "2023-10-08T20:33:18.879257700Z"
    }
   }
  },
  {
   "cell_type": "markdown",
   "source": [
    "Make the submission csv and look at some sample of the predicted result."
   ],
   "metadata": {
    "collapsed": false
   }
  },
  {
   "cell_type": "code",
   "execution_count": 7,
   "outputs": [
    {
     "name": "stdout",
     "output_type": "stream",
     "text": [
      "[normal]: Dunno da next show aft 6 is 850. Toa payoh got 650.\n",
      "[normal]: I.ll hand her my phone to chat wit u\n",
      "[normal]: I dont have i shall buy one dear\n",
      "[normal]: Nite...\n",
      "[normal]: Ok�congrats�\n",
      "[normal]: Oops I did have it,  &lt;#&gt; ?\n",
      "[normal]: Yeah. I got a list with only u and Joanna if I'm feeling really anti social\n",
      "[normal]: Message from . I am at Truro Hospital on ext. You can phone me here. as I have a phone by my side\n",
      "[normal]: Y ü wan to go there? C doctor?\n",
      "[normal]: Not from this campus. Are you in the library?\n",
      "[spam]: I'd like to tell you my deepest darkest fantasies. Call me 09094646631 just 60p/min. To stop texts call 08712460324 (nat rate)\n",
      "[spam]: Santa Calling! Would your little ones like a call from Santa Xmas eve? Call 09058094583 to book your time.\n",
      "[spam]: Meet Top 35 US universities in Delhi at India Habitat Centre Lodhi Road on Nov 8th, 2 to 6 pm for student admission.Entry Free,  details contact 9911489000\n",
      "[spam]: SMS AUCTION You have won a Nokia 7250i. This is what you get when you win our FREE auction. To take part send Nokia to 86021 now. HG/Suite342/2Lands Row/W1JHL 16+\n",
      "[spam]: Call Germany for only 1 pence per minute! Call from a fixed line via access number 0844 861 85 86.\n",
      "[spam]: Dear Subscriber ur draw 4 £100 gift voucher will b entered on receipt of a correct ans. When was Elvis Presleys Birthday? TXT answer to 80062\n",
      "[spam]: Property Bhi Aapki Rent Bhi Aapka, Invest Rs 17k Lacs in Fully Furnished Office Spaces & Earn Rs 17k per Month Wid Bank Guarantee, Noida Cont.9990584817\n",
      "[spam]: For ur chance to win a £250 wkly shopping spree TXT: SHOP to 80878. T's&C's www.txt-2-shop.com\n",
      "[spam]: Monthly password for wap. mobsi.com is 391784. Use your wap phone not PC.\n",
      "[spam]: lam Frederick banner. Pls conatct me asap regarding a possible late\n",
      "[smishing]: WIN URGENT! Your mobile number has been awarded with a £2000 prize GUARANTEED call 09061790121 from land line. claim 3030 valid 12hrs only 150ppm\n",
      "[smishing]: Customer service annoncement. You have a New Years delivery waiting for you. Please call 07046744435 now to arrange delivery\n",
      "[smishing]: Todays Vodafone numbers ending 9167 are selected to receive a Rs.2,00,000 award. If you have a match please call 7044518857 quoting claim code 5001 standard rates apply\n",
      "[smishing]: \tFree 1st week entry 2 TEXTPOD 4 a chance 2 win 40GB iPod or £250 cash every wk. Txt VPOD to 81303 Ts&Cs www.textpod.net custcare 08712405020.\n",
      "[smishing]: 449050000301 You have won a £2,000 price! To claim, call 09050000301.\n",
      "[smishing]: tddnewsletter@emc1.co.uk (More games from TheDailyDraw) Dear Helen, Dozens of Free Games - with great prizesWith..\n",
      "[smishing]: \tDear Voucher Holder, 2 claim this weeks offer, at your PC go to http://www.e-tlp.co.uk/expressoffer Ts&Cs app\n",
      "[smishing]: You are being contacted by our Dating Service by someone you know! To find out who it is, call from your mobile or landline 09064017305 PoBox75LDNS7 \n",
      "[smishing]: Camera - You are awarded a SiPix Digital Camera! call 09061221065 fromm landline. Delivery within 8 days\n",
      "[smishing]: \tUR GOING 2 BAHAMAS! CallFREEFONE 08081560665 and speak to a live operator to claim either Bahamas cruise of£2000 CASH 18+only. To opt out txt X to 07786200117\n"
     ]
    }
   ],
   "source": [
    "write_csv_kaggle_sub(\"my_submission.csv\", y_pred_bnb)\n",
    "classnames = unique(trainY)\n",
    "classlabels = ['normal', 'spam', 'smishing']\n",
    "for c in classnames:\n",
    "    tmp = where(trainY==c)\n",
    "    for a in tmp[0][0:10]:\n",
    "        print('[{}]: {}'.format(classlabels[trainY[a]], traintxt[a]))"
   ],
   "metadata": {
    "collapsed": false,
    "ExecuteTime": {
     "end_time": "2023-10-08T20:33:37.566718300Z",
     "start_time": "2023-10-08T20:33:37.558214Z"
    }
   }
  },
  {
   "cell_type": "markdown",
   "source": [
    "According to the kaggle result, the balanced accuracy score is 0.85972."
   ],
   "metadata": {
    "collapsed": false
   }
  },
  {
   "cell_type": "markdown",
   "source": [
    "\n",
    "## Using Support Vector Machine\n",
    "\n",
    "We know that the data is imbalanced data and SVM is good for predicting imbalanced data.\n",
    "\n",
    "For SVMs, we can try different `C`, `gamma` value.\n",
    "We can use GridSearchCV to get the best value.\n"
   ],
   "metadata": {
    "collapsed": false
   }
  },
  {
   "cell_type": "code",
   "execution_count": 36,
   "outputs": [
    {
     "name": "stdout",
     "output_type": "stream",
     "text": [
      "Best params:  {'C': 2.1544346900318843, 'gamma': 0.46415888336127775}\n",
      "Best balanced accuracy:  0.8636871226380242\n"
     ]
    }
   ],
   "source": [
    "train_txt_preprocessed = [preprocess(s) for s in traintxt]\n",
    "test_txt_preprocessed = [preprocess(s) for s in testtxt]\n",
    "\n",
    "# Count Vectorizer\n",
    "vectorizer = CountVectorizer(stop_words='english', max_features=3150)\n",
    "train_features = vectorizer.fit_transform(train_txt_preprocessed)\n",
    "test_features = vectorizer.transform(test_txt_preprocessed)\n",
    "\n",
    "# Calculate TF-IDF value\n",
    "tf_trans = feature_extraction.text.TfidfTransformer(use_idf=True, norm='l1')\n",
    "train_X = tf_trans.fit_transform(train_features)\n",
    "test_X = tf_trans.transform(test_features)\n",
    "\n",
    "param_grid = {'C': np.logspace(-3,2,10), 'gamma': np.logspace(-3,1,10)}\n",
    "\n",
    "model_svm = svm.SVC(class_weight='balanced')\n",
    "\n",
    "grid = model_selection.GridSearchCV(model_svm, param_grid, refit=True, verbose=0, scoring='balanced_accuracy')\n",
    "\n",
    "grid.fit(train_X,trainY)\n",
    "\n",
    "print(\"Best params: \", grid.best_params_)\n",
    "print(\"Best balanced accuracy: \", grid.best_score_)\n"
   ],
   "metadata": {
    "collapsed": false,
    "ExecuteTime": {
     "end_time": "2023-10-09T13:17:00.546857900Z",
     "start_time": "2023-10-09T13:12:40.379063600Z"
    }
   }
  },
  {
   "cell_type": "markdown",
   "source": [
    "Now that we know the best parameter set is {'C': 2.1544346900318843, 'gamma': 0.46415888336127775}.\n",
    "We can validate that:"
   ],
   "metadata": {
    "collapsed": false
   }
  },
  {
   "cell_type": "code",
   "execution_count": 29,
   "outputs": [
    {
     "name": "stdout",
     "output_type": "stream",
     "text": [
      "[SVM] Balanced_accuracy_score: 0.8225607211236173\n"
     ]
    }
   ],
   "source": [
    "model_svm = svm.SVC(class_weight='balanced', C=2.1544346900318843, gamma=0.46415888336127775)\n",
    "\n",
    "X_train, X_valid, y_train, y_valid = train_test_split(train_X, trainY, stratify=trainY, test_size=0.6, random_state=0)\n",
    "\n",
    "model_svm.fit(X_train,y_train)\n",
    "y_pred_svm = model_svm.predict(X_valid)\n",
    "acc_svm = metrics.balanced_accuracy_score(y_valid,y_pred_svm)\n",
    "print('[SVM] Balanced_accuracy_score:', acc_svm)\n"
   ],
   "metadata": {
    "collapsed": false,
    "ExecuteTime": {
     "end_time": "2023-10-09T13:04:27.198469400Z",
     "start_time": "2023-10-09T13:04:27.017749700Z"
    }
   }
  },
  {
   "cell_type": "markdown",
   "source": [
    "We can see that the result is good, but not as good as the Bernoulli Naive Bayes model."
   ],
   "metadata": {
    "collapsed": false
   }
  },
  {
   "cell_type": "markdown",
   "source": [
    "Let's see some of the incorrectly predicted result."
   ],
   "metadata": {
    "collapsed": false
   }
  },
  {
   "cell_type": "code",
   "execution_count": 35,
   "outputs": [
    {
     "name": "stdout",
     "output_type": "stream",
     "text": [
      "True label: 0, Predicted label: 1 \n",
      "Corresponding x: Thts god's gift for birds as humans hav some natural gift frm god..\n",
      "True label: 0, Predicted label: 1 \n",
      "Corresponding x: \tour mobile number has won £5000, to claim calls us back or ring the claims hot line on 09050005321.\n",
      "True label: 0, Predicted label: 1 \n",
      "Corresponding x: No it's waiting in e car dat's bored wat. Cos wait outside got nothing 2 do. At home can do my stuff or watch tv wat.\n",
      "True label: 0, Predicted label: 1 \n",
      "Corresponding x: Are you willing to go for apps class.\n",
      "True label: 1, Predicted label: 0 \n",
      "Corresponding x: Urgent! call 09066350750 from your landline. Your complimentary 4* Ibiza Holiday or 10,000 cash await collection SAE T&Cs PO BOX 434 SK3 8WP 150 ppm 18+ \n",
      "True label: 2, Predicted label: 1 \n",
      "Corresponding x: The wine is flowing and i'm i have nevering..\n",
      "True label: 0, Predicted label: 1 \n",
      "Corresponding x: Dont gimme that lip caveboy\n",
      "True label: 0, Predicted label: 1 \n",
      "Corresponding x: U don't remember that old commercial?\n",
      "True label: 0, Predicted label: 1 \n",
      "Corresponding x: am up to my eyes in philosophy\n",
      "True label: 0, Predicted label: 1 \n",
      "Corresponding x: Oh just getting even with u.... u?\n"
     ]
    }
   ],
   "source": [
    "incorrect_indices_svm = np.where(y_valid!=y_pred_svm)[0]\n",
    "\n",
    "X_train_txt, X_valid_txt, _, _ = train_test_split(traintxt, trainY, stratify=trainY, test_size=0.6, random_state=0)\n",
    "i=0\n",
    "for index in incorrect_indices_svm:\n",
    "    if i>=10:\n",
    "        break\n",
    "    print(f\"True label: {y_valid[index]}, Predicted label: {y_pred_svm[index]} \\nCorresponding x: {X_train_txt[index]}\")\n",
    "    i = i +1"
   ],
   "metadata": {
    "collapsed": false,
    "ExecuteTime": {
     "end_time": "2023-10-09T13:11:15.092371300Z",
     "start_time": "2023-10-09T13:11:15.081844800Z"
    }
   }
  },
  {
   "cell_type": "markdown",
   "source": [
    "I think that the main reason of mis-prediction is that the training set is too small and imbalanced, and some noice may exist in training data which may influence the accuracy score."
   ],
   "metadata": {
    "collapsed": false
   }
  },
  {
   "cell_type": "markdown",
   "source": [
    "Then try train an SVC using full training set and make a Kaggle submission."
   ],
   "metadata": {
    "collapsed": false
   }
  },
  {
   "cell_type": "code",
   "execution_count": 25,
   "outputs": [],
   "source": [
    "train_txt_preprocessed = [preprocess(s) for s in traintxt]\n",
    "test_txt_preprocessed = [preprocess(s) for s in testtxt]\n",
    "\n",
    "# Count Vectorizer\n",
    "vectorizer = CountVectorizer(stop_words='english', max_features=3150)\n",
    "train_features = vectorizer.fit_transform(train_txt_preprocessed)\n",
    "test_features = vectorizer.transform(test_txt_preprocessed)\n",
    "\n",
    "# Calculate TF-IDF value\n",
    "tf_trans = feature_extraction.text.TfidfTransformer(use_idf=True, norm='l1')\n",
    "train_X = tf_trans.fit_transform(train_features)\n",
    "test_X = tf_trans.transform(test_features)\n",
    "\n",
    "model_svm = svm.SVC(class_weight='balanced', C=2.1544346900318843, gamma=0.46415888336127775)\n",
    "\n",
    "model_svm.fit(train_X,trainY)\n",
    "y_pred_svm = model_svm.predict(test_X)\n"
   ],
   "metadata": {
    "collapsed": false,
    "ExecuteTime": {
     "end_time": "2023-10-09T12:46:54.366220500Z",
     "start_time": "2023-10-09T12:46:52.591449700Z"
    }
   }
  },
  {
   "cell_type": "code",
   "execution_count": 26,
   "outputs": [
    {
     "name": "stdout",
     "output_type": "stream",
     "text": [
      "[normal]: Dunno da next show aft 6 is 850. Toa payoh got 650.\n",
      "[normal]: I.ll hand her my phone to chat wit u\n",
      "[normal]: I dont have i shall buy one dear\n",
      "[normal]: Nite...\n",
      "[normal]: Ok�congrats�\n",
      "[normal]: Oops I did have it,  &lt;#&gt; ?\n",
      "[normal]: Yeah. I got a list with only u and Joanna if I'm feeling really anti social\n",
      "[normal]: Message from . I am at Truro Hospital on ext. You can phone me here. as I have a phone by my side\n",
      "[normal]: Y ü wan to go there? C doctor?\n",
      "[normal]: Not from this campus. Are you in the library?\n",
      "[spam]: I'd like to tell you my deepest darkest fantasies. Call me 09094646631 just 60p/min. To stop texts call 08712460324 (nat rate)\n",
      "[spam]: Santa Calling! Would your little ones like a call from Santa Xmas eve? Call 09058094583 to book your time.\n",
      "[spam]: Meet Top 35 US universities in Delhi at India Habitat Centre Lodhi Road on Nov 8th, 2 to 6 pm for student admission.Entry Free,  details contact 9911489000\n",
      "[spam]: SMS AUCTION You have won a Nokia 7250i. This is what you get when you win our FREE auction. To take part send Nokia to 86021 now. HG/Suite342/2Lands Row/W1JHL 16+\n",
      "[spam]: Call Germany for only 1 pence per minute! Call from a fixed line via access number 0844 861 85 86.\n",
      "[spam]: Dear Subscriber ur draw 4 £100 gift voucher will b entered on receipt of a correct ans. When was Elvis Presleys Birthday? TXT answer to 80062\n",
      "[spam]: Property Bhi Aapki Rent Bhi Aapka, Invest Rs 17k Lacs in Fully Furnished Office Spaces & Earn Rs 17k per Month Wid Bank Guarantee, Noida Cont.9990584817\n",
      "[spam]: For ur chance to win a £250 wkly shopping spree TXT: SHOP to 80878. T's&C's www.txt-2-shop.com\n",
      "[spam]: Monthly password for wap. mobsi.com is 391784. Use your wap phone not PC.\n",
      "[spam]: lam Frederick banner. Pls conatct me asap regarding a possible late\n",
      "[smishing]: WIN URGENT! Your mobile number has been awarded with a £2000 prize GUARANTEED call 09061790121 from land line. claim 3030 valid 12hrs only 150ppm\n",
      "[smishing]: Customer service annoncement. You have a New Years delivery waiting for you. Please call 07046744435 now to arrange delivery\n",
      "[smishing]: Todays Vodafone numbers ending 9167 are selected to receive a Rs.2,00,000 award. If you have a match please call 7044518857 quoting claim code 5001 standard rates apply\n",
      "[smishing]: \tFree 1st week entry 2 TEXTPOD 4 a chance 2 win 40GB iPod or £250 cash every wk. Txt VPOD to 81303 Ts&Cs www.textpod.net custcare 08712405020.\n",
      "[smishing]: 449050000301 You have won a £2,000 price! To claim, call 09050000301.\n",
      "[smishing]: tddnewsletter@emc1.co.uk (More games from TheDailyDraw) Dear Helen, Dozens of Free Games - with great prizesWith..\n",
      "[smishing]: \tDear Voucher Holder, 2 claim this weeks offer, at your PC go to http://www.e-tlp.co.uk/expressoffer Ts&Cs app\n",
      "[smishing]: You are being contacted by our Dating Service by someone you know! To find out who it is, call from your mobile or landline 09064017305 PoBox75LDNS7 \n",
      "[smishing]: Camera - You are awarded a SiPix Digital Camera! call 09061221065 fromm landline. Delivery within 8 days\n",
      "[smishing]: \tUR GOING 2 BAHAMAS! CallFREEFONE 08081560665 and speak to a live operator to claim either Bahamas cruise of£2000 CASH 18+only. To opt out txt X to 07786200117\n"
     ]
    }
   ],
   "source": [
    "write_csv_kaggle_sub(\"my_submission_svm.csv\", y_pred_svm)\n",
    "classnames = unique(trainY)\n",
    "classlabels = ['normal', 'spam', 'smishing']\n",
    "for c in classnames:\n",
    "    tmp = where(trainY==c)\n",
    "    for a in tmp[0][0:10]:\n",
    "        print('[{}]: {}'.format(classlabels[trainY[a]], traintxt[a]))"
   ],
   "metadata": {
    "collapsed": false,
    "ExecuteTime": {
     "end_time": "2023-10-09T12:46:56.909998300Z",
     "start_time": "2023-10-09T12:46:56.874402500Z"
    }
   }
  },
  {
   "cell_type": "markdown",
   "source": [
    "The kaggle result of is 0.84449, which is slightly smaller than Bernoulli Naive Bayes Classifier. I think this result does not accurately indicate which of the two algorithms is better, as they both give similar results and can be affected by randomness."
   ],
   "metadata": {
    "collapsed": false
   }
  }
 ],
 "metadata": {
  "anaconda-cloud": {},
  "kernelspec": {
   "display_name": "Python 3 (ipykernel)",
   "language": "python",
   "name": "python3"
  },
  "language_info": {
   "codemirror_mode": {
    "name": "ipython",
    "version": 3
   },
   "file_extension": ".py",
   "mimetype": "text/x-python",
   "name": "python",
   "nbconvert_exporter": "python",
   "pygments_lexer": "ipython3",
   "version": "3.9.15"
  },
  "toc": {
   "base_numbering": 1,
   "nav_menu": {},
   "number_sections": true,
   "sideBar": true,
   "skip_h1_title": false,
   "title_cell": "Table of Contents",
   "title_sidebar": "Contents",
   "toc_cell": false,
   "toc_position": {},
   "toc_section_display": true,
   "toc_window_display": true
  }
 },
 "nbformat": 4,
 "nbformat_minor": 1
}

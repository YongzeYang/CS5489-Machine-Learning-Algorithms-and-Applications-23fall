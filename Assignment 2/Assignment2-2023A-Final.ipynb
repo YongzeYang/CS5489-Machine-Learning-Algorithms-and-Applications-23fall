{
 "cells": [
  {
   "cell_type": "markdown",
   "metadata": {},
   "source": [
    "**Name:** YANG Yongze\n",
    "\n",
    "**EID:** 58162280\n",
    "\n",
    "**Kaggle Team Name:** YANG Yongze"
   ]
  },
  {
   "cell_type": "markdown",
   "metadata": {},
   "source": [
    "# CS5489 - Assignment 2 - Urban Sound Tagging\n",
    "Due date: see Assignment 2 on Canvas"
   ]
  },
  {
   "cell_type": "markdown",
   "metadata": {},
   "source": [
    "# FINAL SOLUTION"
   ]
  },
  {
   "cell_type": "code",
   "execution_count": 2,
   "metadata": {
    "ExecuteTime": {
     "end_time": "2023-10-06T13:04:44.458060Z",
     "start_time": "2023-10-06T13:04:43.826465Z"
    }
   },
   "outputs": [],
   "source": [
    "%matplotlib inline\n",
    "import matplotlib_inline   # setup output image format\n",
    "matplotlib_inline.backend_inline.set_matplotlib_formats('svg')\n",
    "import matplotlib.pyplot as plt\n",
    "import matplotlib\n",
    "from numpy import *\n",
    "from sklearn import *\n",
    "from scipy import stats\n",
    "random.seed(100)\n",
    "import csv\n",
    "from scipy import io\n",
    "import pickle\n",
    "from IPython.display import Audio, display"
   ]
  },
  {
   "cell_type": "code",
   "execution_count": 3,
   "metadata": {
    "ExecuteTime": {
     "end_time": "2023-10-06T13:04:44.461625Z",
     "start_time": "2023-10-06T13:04:44.459454Z"
    }
   },
   "outputs": [],
   "source": [
    "def showAudio(info):\n",
    "    myfile = 'musicmp3/' + info['fname'] + '.mp3'\n",
    "    if os.path.exists(myfile):\n",
    "        display(Audio(myfile))\n",
    "    else:\n",
    "        print(\"*** mp3 file \" + myfile + \" could not be found ***\")\n",
    "\n",
    "def load_pickle(fname):\n",
    "    f = open(fname, 'rb')\n",
    "    out = pickle.load(f)\n",
    "    f.close()\n",
    "    return out"
   ]
  },
  {
   "cell_type": "code",
   "execution_count": 5,
   "metadata": {
    "ExecuteTime": {
     "end_time": "2023-10-06T13:04:44.838906Z",
     "start_time": "2023-10-06T13:04:44.507611Z"
    }
   },
   "outputs": [],
   "source": [
    "train_tags  = load_pickle('sounddata/train_tags.pickle3')\n",
    "train_info  = load_pickle('sounddata/train_info.pickle3')\n",
    "test_info  = load_pickle('sounddata/test_info.pickle3')"
   ]
  },
  {
   "cell_type": "code",
   "execution_count": 6,
   "metadata": {
    "ExecuteTime": {
     "end_time": "2023-10-06T13:04:46.079337Z",
     "start_time": "2023-10-06T13:04:46.071021Z"
    },
    "scrolled": false
   },
   "outputs": [
    {
     "name": "stdout",
     "output_type": "stream",
     "text": [
      "1-1_small-sounding-engine_presence: 193\n",
      "1-2_medium-sounding-engine_presence: 616\n",
      "1-3_large-sounding-engine_presence: 775\n",
      "1-X_engine-of-uncertain-size_presence: 307\n",
      "1_engine_presence: 1492\n",
      "2-1_rock-drill_presence: 264\n",
      "2-2_jackhammer_presence: 179\n",
      "2-3_hoe-ram_presence: 79\n",
      "2-4_pile-driver_presence: 55\n",
      "2-X_other-unknown-impact-machinery_presence: 255\n",
      "2_machinery-impact_presence: 650\n",
      "3-1_non-machinery-impact_presence: 349\n",
      "3_non-machinery-impact_presence: 349\n",
      "4-1_chainsaw_presence: 101\n",
      "4-2_small-medium-rotating-saw_presence: 100\n",
      "4-3_large-rotating-saw_presence: 96\n",
      "4-X_other-unknown-powered-saw_presence: 79\n",
      "4_powered-saw_presence: 267\n",
      "5-1_car-horn_presence: 286\n",
      "5-2_car-alarm_presence: 28\n",
      "5-3_siren_presence: 174\n",
      "5-4_reverse-beeper_presence: 175\n",
      "5-X_other-unknown-alert-signal_presence: 70\n",
      "5_alert-signal_presence: 635\n",
      "6-1_stationary-music_presence: 84\n",
      "6-2_mobile-music_presence: 26\n",
      "6-3_ice-cream-truck_presence: 6\n",
      "6-X_music-from-uncertain-source_presence: 73\n",
      "6_music_presence: 150\n",
      "7-1_person-or-small-group-talking_presence: 886\n",
      "7-2_person-or-small-group-shouting_presence: 113\n",
      "7-3_large-crowd_presence: 52\n",
      "7-4_amplified-speech_presence: 11\n",
      "7-X_other-unknown-human-voice_presence: 114\n",
      "7_human-voice_presence: 977\n",
      "8-1_dog-barking-whining_presence: 157\n",
      "8_dog_presence: 157\n",
      "['1-1_small-sounding-engine_presence', '1-2_medium-sounding-engine_presence', '1-3_large-sounding-engine_presence', '1-X_engine-of-uncertain-size_presence', '1_engine_presence', '2-1_rock-drill_presence', '2-2_jackhammer_presence', '2-X_other-unknown-impact-machinery_presence', '2_machinery-impact_presence', '3-1_non-machinery-impact_presence', '3_non-machinery-impact_presence', '4-1_chainsaw_presence', '4-2_small-medium-rotating-saw_presence', '4-3_large-rotating-saw_presence', '4-X_other-unknown-powered-saw_presence', '4_powered-saw_presence', '5-1_car-horn_presence', '5-3_siren_presence', '5-4_reverse-beeper_presence', '5_alert-signal_presence', '6-1_stationary-music_presence', '6-2_mobile-music_presence', '6-X_music-from-uncertain-source_presence', '6_music_presence', '7-1_person-or-small-group-talking_presence', '7-2_person-or-small-group-shouting_presence', '7-4_amplified-speech_presence', '7_human-voice_presence', '8-1_dog-barking-whining_presence', '8_dog_presence']\n"
     ]
    }
   ],
   "source": [
    "alltagnames, alltagnames_counts = unique(concatenate(train_tags), return_counts=True)\n",
    "for a,b in zip(alltagnames, alltagnames_counts):\n",
    "    print(\"{}: {}\".format(a, b))\n",
    "\n",
    "# remove some tags\n",
    "blacklist = ['2-3_hoe-ram_presence', '2-4_pile-driver_presence', '5-2_car-alarm_presence', '5-X_other-unknown-alert-signal_presence', '6-3_ice-cream-truck_presence', '7-3_large-crowd_presence', '7-X_other-unknown-human-voice_presence']\n",
    "tagnames = [t for t in alltagnames if t not in blacklist]\n",
    "print(tagnames)"
   ]
  },
  {
   "cell_type": "code",
   "execution_count": 7,
   "metadata": {
    "ExecuteTime": {
     "end_time": "2023-10-06T13:04:46.680838Z",
     "start_time": "2023-10-06T13:04:46.678538Z"
    }
   },
   "outputs": [],
   "source": [
    "# convert list of tags into binary class labels\n",
    "def tags2class(tags, tagnames):\n",
    "    b = zeros(shape=(len(tags), len(tagnames)))\n",
    "    for i,t in enumerate(tags):\n",
    "        for j,n in enumerate(tagnames):\n",
    "            if n in t:\n",
    "                b[i,j] = 1\n",
    "    return b"
   ]
  },
  {
   "cell_type": "code",
   "execution_count": 8,
   "metadata": {
    "ExecuteTime": {
     "end_time": "2023-10-06T13:04:48.621227Z",
     "start_time": "2023-10-06T13:04:48.605411Z"
    }
   },
   "outputs": [],
   "source": [
    "# train_classes[i,j] = absence/presence of the j-th tag in the i-th sound\n",
    "train_classes = tags2class(train_tags, tagnames)"
   ]
  },
  {
   "cell_type": "code",
   "execution_count": 9,
   "metadata": {
    "ExecuteTime": {
     "end_time": "2023-10-06T13:04:49.257016Z",
     "start_time": "2023-10-06T13:04:49.251577Z"
    }
   },
   "outputs": [],
   "source": [
    "import csv\n",
    "\n",
    "def write_csv_kaggle_tags(fname, tagnames, Yscores):\n",
    "    # header\n",
    "    tmp = [['Id']]\n",
    "    for t in tagnames:\n",
    "        tmp[0].append(t)    \n",
    "    \n",
    "    # add ID numbers for each Y, and usage if necessary\n",
    "    for i in range(len(Yscores)):\n",
    "        tmp2 = [(i+1)]\n",
    "        for t in range(len(tagnames)):\n",
    "            tmp2.append(Yscores[i,t])\n",
    "        \n",
    "        tmp.append(tmp2)\n",
    "        \n",
    "    # write CSV file\n",
    "    f = open(fname, 'w')\n",
    "    writer = csv.writer(f)\n",
    "    writer.writerows(tmp)\n",
    "    f.close()"
   ]
  },
  {
   "cell_type": "markdown",
   "metadata": {
    "collapsed": true
   },
   "source": [
    "## YOUR CODE and DOCUMENTATION HERE\n",
    "\n",
    "My method requires a python package named `pyAudioProcessing`, using the following cell to install."
   ]
  },
  {
   "cell_type": "code",
   "execution_count": null,
   "metadata": {},
   "outputs": [],
   "source": [
    "!pip install pyAudioProcessing"
   ]
  },
  {
   "cell_type": "markdown",
   "metadata": {},
   "source": [
    "Now import this package:"
   ]
  },
  {
   "cell_type": "code",
   "execution_count": null,
   "metadata": {},
   "outputs": [],
   "source": [
    "from pyAudioProcessing.extract_features import get_features"
   ]
  },
  {
   "cell_type": "markdown",
   "metadata": {},
   "source": [
    "Using this package, we can process the raw wav data and get the feature representation of these wav files."
   ]
  },
  {
   "cell_type": "code",
   "execution_count": null,
   "metadata": {},
   "outputs": [],
   "source": [
    "train_concat = []\n",
    "test_concat = []\n",
    "\n",
    "for info in train_info:\n",
    "    file_path = os.path.join(\"soundwav\",info['fname']+'.wav')\n",
    "    feature = get_features(file=file_path,feature_names=[\"gfcc\",\"spectral\",\"chroma\"])\n",
    "    feature_values = array(feature['audio'][file_path]['features'])\n",
    "    train_concat.append(feature_values)\n",
    "\n",
    "for info in test_info:\n",
    "    file_path = os.path.join(\"soundwav\",info['fname']+'.wav')\n",
    "    feature = get_features(file=file_path,feature_names=[\"gfcc\",\"spectral\",\"chroma\"])\n",
    "    feature_values = array(feature['audio'][file_path]['features'])\n",
    "    test_concat.append(feature_values)\n",
    "\n",
    "train_concat = array(train_concat)\n",
    "test_concat = array(test_concat)\n",
    "\n",
    "print(train_concat.shape)\n",
    "print(test_concat.shape)\n",
    "\n",
    "with open('train_concat.pickle', 'wb') as f:\n",
    "    pickle.dump(train_concat, f)\n",
    "\n",
    "with open('test_concat.pickle', 'wb') as f:\n",
    "    pickle.dump(test_concat, f)"
   ]
  },
  {
   "cell_type": "markdown",
   "metadata": {},
   "source": [
    "It is OK if the package is not installed. In this case please load my pickle file."
   ]
  },
  {
   "cell_type": "code",
   "execution_count": 10,
   "metadata": {},
   "outputs": [],
   "source": [
    "train_concat = load_pickle('train_concat.pickle')\n",
    "test_concat = load_pickle('test_concat.pickle')"
   ]
  },
  {
   "cell_type": "markdown",
   "metadata": {},
   "source": [
    "Now use Grid Search to train an MLP classifier for each tag, and make the prediction."
   ]
  },
  {
   "cell_type": "code",
   "execution_count": 11,
   "metadata": {},
   "outputs": [],
   "source": [
    "def mlp_predict(train_feature, test_feature, csv_path='predict_mlp.csv'):\n",
    "    parameter_space = {\n",
    "        'hidden_layer_sizes': [(50,50,50), (50,100,50), (100,), (100, 10), (50, 50)],\n",
    "        'alpha': [0.0001, 0.05],\n",
    "        'learning_rate': ['constant', 'invscaling','adaptive'],\n",
    "    }\n",
    "    \n",
    "    tagmodels = {}\n",
    "    for i,t in enumerate(tagnames):\n",
    "        print('training {} - {}'.format(i, t))\n",
    "        myY = myY = train_classes[:,i].ravel()\n",
    "        mlp = model_selection.GridSearchCV(neural_network.MLPClassifier(), parameter_space, cv=5, n_jobs=-1, verbose=False)\n",
    "        mlp.fit(train_feature, myY)\n",
    "        tagmodels[t] = mlp\n",
    "\n",
    "    test_predscore = zeros(shape=(test_feature.shape[0], len(tagnames)))\n",
    "\n",
    "    for i,t in enumerate(tagnames):\n",
    "        print('predicting {} - {}'.format(i, t))\n",
    "        tmp = tagmodels[t].predict_proba(test_feature)\n",
    "        test_predscore[:,i] = tmp[:, 1]\n",
    "\n",
    "    write_csv_kaggle_tags(csv_path, tagnames, test_predscore)"
   ]
  },
  {
   "cell_type": "code",
   "execution_count": 12,
   "metadata": {},
   "outputs": [
    {
     "name": "stdout",
     "output_type": "stream",
     "text": [
      "training 0 - 1-1_small-sounding-engine_presence\n"
     ]
    },
    {
     "name": "stderr",
     "output_type": "stream",
     "text": [
      "c:\\Users\\yyz\\anaconda3\\lib\\site-packages\\sklearn\\neural_network\\_multilayer_perceptron.py:702: ConvergenceWarning: Stochastic Optimizer: Maximum iterations (200) reached and the optimization hasn't converged yet.\n",
      "  warnings.warn(\n"
     ]
    },
    {
     "name": "stdout",
     "output_type": "stream",
     "text": [
      "training 1 - 1-2_medium-sounding-engine_presence\n"
     ]
    },
    {
     "name": "stderr",
     "output_type": "stream",
     "text": [
      "c:\\Users\\yyz\\anaconda3\\lib\\site-packages\\sklearn\\neural_network\\_multilayer_perceptron.py:702: ConvergenceWarning: Stochastic Optimizer: Maximum iterations (200) reached and the optimization hasn't converged yet.\n",
      "  warnings.warn(\n"
     ]
    },
    {
     "name": "stdout",
     "output_type": "stream",
     "text": [
      "training 2 - 1-3_large-sounding-engine_presence\n",
      "training 3 - 1-X_engine-of-uncertain-size_presence\n"
     ]
    },
    {
     "name": "stderr",
     "output_type": "stream",
     "text": [
      "c:\\Users\\yyz\\anaconda3\\lib\\site-packages\\sklearn\\neural_network\\_multilayer_perceptron.py:702: ConvergenceWarning: Stochastic Optimizer: Maximum iterations (200) reached and the optimization hasn't converged yet.\n",
      "  warnings.warn(\n"
     ]
    },
    {
     "name": "stdout",
     "output_type": "stream",
     "text": [
      "training 4 - 1_engine_presence\n"
     ]
    },
    {
     "name": "stderr",
     "output_type": "stream",
     "text": [
      "c:\\Users\\yyz\\anaconda3\\lib\\site-packages\\sklearn\\neural_network\\_multilayer_perceptron.py:702: ConvergenceWarning: Stochastic Optimizer: Maximum iterations (200) reached and the optimization hasn't converged yet.\n",
      "  warnings.warn(\n"
     ]
    },
    {
     "name": "stdout",
     "output_type": "stream",
     "text": [
      "training 5 - 2-1_rock-drill_presence\n",
      "training 6 - 2-2_jackhammer_presence\n"
     ]
    },
    {
     "name": "stderr",
     "output_type": "stream",
     "text": [
      "c:\\Users\\yyz\\anaconda3\\lib\\site-packages\\sklearn\\neural_network\\_multilayer_perceptron.py:702: ConvergenceWarning: Stochastic Optimizer: Maximum iterations (200) reached and the optimization hasn't converged yet.\n",
      "  warnings.warn(\n"
     ]
    },
    {
     "name": "stdout",
     "output_type": "stream",
     "text": [
      "training 7 - 2-X_other-unknown-impact-machinery_presence\n"
     ]
    },
    {
     "name": "stderr",
     "output_type": "stream",
     "text": [
      "c:\\Users\\yyz\\anaconda3\\lib\\site-packages\\sklearn\\neural_network\\_multilayer_perceptron.py:702: ConvergenceWarning: Stochastic Optimizer: Maximum iterations (200) reached and the optimization hasn't converged yet.\n",
      "  warnings.warn(\n"
     ]
    },
    {
     "name": "stdout",
     "output_type": "stream",
     "text": [
      "training 8 - 2_machinery-impact_presence\n"
     ]
    },
    {
     "name": "stderr",
     "output_type": "stream",
     "text": [
      "c:\\Users\\yyz\\anaconda3\\lib\\site-packages\\sklearn\\neural_network\\_multilayer_perceptron.py:702: ConvergenceWarning: Stochastic Optimizer: Maximum iterations (200) reached and the optimization hasn't converged yet.\n",
      "  warnings.warn(\n"
     ]
    },
    {
     "name": "stdout",
     "output_type": "stream",
     "text": [
      "training 9 - 3-1_non-machinery-impact_presence\n",
      "training 10 - 3_non-machinery-impact_presence\n"
     ]
    },
    {
     "name": "stderr",
     "output_type": "stream",
     "text": [
      "c:\\Users\\yyz\\anaconda3\\lib\\site-packages\\sklearn\\neural_network\\_multilayer_perceptron.py:702: ConvergenceWarning: Stochastic Optimizer: Maximum iterations (200) reached and the optimization hasn't converged yet.\n",
      "  warnings.warn(\n"
     ]
    },
    {
     "name": "stdout",
     "output_type": "stream",
     "text": [
      "training 11 - 4-1_chainsaw_presence\n"
     ]
    },
    {
     "name": "stderr",
     "output_type": "stream",
     "text": [
      "c:\\Users\\yyz\\anaconda3\\lib\\site-packages\\sklearn\\neural_network\\_multilayer_perceptron.py:702: ConvergenceWarning: Stochastic Optimizer: Maximum iterations (200) reached and the optimization hasn't converged yet.\n",
      "  warnings.warn(\n"
     ]
    },
    {
     "name": "stdout",
     "output_type": "stream",
     "text": [
      "training 12 - 4-2_small-medium-rotating-saw_presence\n",
      "training 13 - 4-3_large-rotating-saw_presence\n",
      "training 14 - 4-X_other-unknown-powered-saw_presence\n",
      "training 15 - 4_powered-saw_presence\n",
      "training 16 - 5-1_car-horn_presence\n"
     ]
    },
    {
     "name": "stderr",
     "output_type": "stream",
     "text": [
      "c:\\Users\\yyz\\anaconda3\\lib\\site-packages\\sklearn\\neural_network\\_multilayer_perceptron.py:702: ConvergenceWarning: Stochastic Optimizer: Maximum iterations (200) reached and the optimization hasn't converged yet.\n",
      "  warnings.warn(\n"
     ]
    },
    {
     "name": "stdout",
     "output_type": "stream",
     "text": [
      "training 17 - 5-3_siren_presence\n",
      "training 18 - 5-4_reverse-beeper_presence\n",
      "training 19 - 5_alert-signal_presence\n",
      "training 20 - 6-1_stationary-music_presence\n"
     ]
    },
    {
     "name": "stderr",
     "output_type": "stream",
     "text": [
      "c:\\Users\\yyz\\anaconda3\\lib\\site-packages\\sklearn\\neural_network\\_multilayer_perceptron.py:702: ConvergenceWarning: Stochastic Optimizer: Maximum iterations (200) reached and the optimization hasn't converged yet.\n",
      "  warnings.warn(\n"
     ]
    },
    {
     "name": "stdout",
     "output_type": "stream",
     "text": [
      "training 21 - 6-2_mobile-music_presence\n"
     ]
    },
    {
     "name": "stderr",
     "output_type": "stream",
     "text": [
      "c:\\Users\\yyz\\anaconda3\\lib\\site-packages\\sklearn\\neural_network\\_multilayer_perceptron.py:702: ConvergenceWarning: Stochastic Optimizer: Maximum iterations (200) reached and the optimization hasn't converged yet.\n",
      "  warnings.warn(\n"
     ]
    },
    {
     "name": "stdout",
     "output_type": "stream",
     "text": [
      "training 22 - 6-X_music-from-uncertain-source_presence\n"
     ]
    },
    {
     "name": "stderr",
     "output_type": "stream",
     "text": [
      "c:\\Users\\yyz\\anaconda3\\lib\\site-packages\\sklearn\\neural_network\\_multilayer_perceptron.py:702: ConvergenceWarning: Stochastic Optimizer: Maximum iterations (200) reached and the optimization hasn't converged yet.\n",
      "  warnings.warn(\n"
     ]
    },
    {
     "name": "stdout",
     "output_type": "stream",
     "text": [
      "training 23 - 6_music_presence\n"
     ]
    },
    {
     "name": "stderr",
     "output_type": "stream",
     "text": [
      "c:\\Users\\yyz\\anaconda3\\lib\\site-packages\\sklearn\\neural_network\\_multilayer_perceptron.py:702: ConvergenceWarning: Stochastic Optimizer: Maximum iterations (200) reached and the optimization hasn't converged yet.\n",
      "  warnings.warn(\n"
     ]
    },
    {
     "name": "stdout",
     "output_type": "stream",
     "text": [
      "training 24 - 7-1_person-or-small-group-talking_presence\n"
     ]
    },
    {
     "name": "stderr",
     "output_type": "stream",
     "text": [
      "c:\\Users\\yyz\\anaconda3\\lib\\site-packages\\sklearn\\neural_network\\_multilayer_perceptron.py:702: ConvergenceWarning: Stochastic Optimizer: Maximum iterations (200) reached and the optimization hasn't converged yet.\n",
      "  warnings.warn(\n"
     ]
    },
    {
     "name": "stdout",
     "output_type": "stream",
     "text": [
      "training 25 - 7-2_person-or-small-group-shouting_presence\n"
     ]
    },
    {
     "name": "stderr",
     "output_type": "stream",
     "text": [
      "c:\\Users\\yyz\\anaconda3\\lib\\site-packages\\sklearn\\neural_network\\_multilayer_perceptron.py:702: ConvergenceWarning: Stochastic Optimizer: Maximum iterations (200) reached and the optimization hasn't converged yet.\n",
      "  warnings.warn(\n"
     ]
    },
    {
     "name": "stdout",
     "output_type": "stream",
     "text": [
      "training 26 - 7-4_amplified-speech_presence\n",
      "training 27 - 7_human-voice_presence\n",
      "training 28 - 8-1_dog-barking-whining_presence\n"
     ]
    },
    {
     "name": "stderr",
     "output_type": "stream",
     "text": [
      "c:\\Users\\yyz\\anaconda3\\lib\\site-packages\\sklearn\\neural_network\\_multilayer_perceptron.py:702: ConvergenceWarning: Stochastic Optimizer: Maximum iterations (200) reached and the optimization hasn't converged yet.\n",
      "  warnings.warn(\n"
     ]
    },
    {
     "name": "stdout",
     "output_type": "stream",
     "text": [
      "training 29 - 8_dog_presence\n",
      "predicting 0 - 1-1_small-sounding-engine_presence\n",
      "predicting 1 - 1-2_medium-sounding-engine_presence\n",
      "predicting 2 - 1-3_large-sounding-engine_presence\n",
      "predicting 3 - 1-X_engine-of-uncertain-size_presence\n",
      "predicting 4 - 1_engine_presence\n",
      "predicting 5 - 2-1_rock-drill_presence\n",
      "predicting 6 - 2-2_jackhammer_presence\n",
      "predicting 7 - 2-X_other-unknown-impact-machinery_presence\n",
      "predicting 8 - 2_machinery-impact_presence\n",
      "predicting 9 - 3-1_non-machinery-impact_presence\n",
      "predicting 10 - 3_non-machinery-impact_presence\n",
      "predicting 11 - 4-1_chainsaw_presence\n",
      "predicting 12 - 4-2_small-medium-rotating-saw_presence\n",
      "predicting 13 - 4-3_large-rotating-saw_presence\n",
      "predicting 14 - 4-X_other-unknown-powered-saw_presence\n",
      "predicting 15 - 4_powered-saw_presence\n",
      "predicting 16 - 5-1_car-horn_presence\n",
      "predicting 17 - 5-3_siren_presence\n",
      "predicting 18 - 5-4_reverse-beeper_presence\n",
      "predicting 19 - 5_alert-signal_presence\n",
      "predicting 20 - 6-1_stationary-music_presence\n",
      "predicting 21 - 6-2_mobile-music_presence\n",
      "predicting 22 - 6-X_music-from-uncertain-source_presence\n",
      "predicting 23 - 6_music_presence\n",
      "predicting 24 - 7-1_person-or-small-group-talking_presence\n",
      "predicting 25 - 7-2_person-or-small-group-shouting_presence\n",
      "predicting 26 - 7-4_amplified-speech_presence\n",
      "predicting 27 - 7_human-voice_presence\n",
      "predicting 28 - 8-1_dog-barking-whining_presence\n",
      "predicting 29 - 8_dog_presence\n"
     ]
    },
    {
     "name": "stderr",
     "output_type": "stream",
     "text": [
      "c:\\Users\\yyz\\anaconda3\\lib\\site-packages\\sklearn\\neural_network\\_multilayer_perceptron.py:702: ConvergenceWarning: Stochastic Optimizer: Maximum iterations (200) reached and the optimization hasn't converged yet.\n",
      "  warnings.warn(\n"
     ]
    }
   ],
   "source": [
    "mlp_predict(train_concat, test_concat, csv_path='final_submission.csv')"
   ]
  },
  {
   "cell_type": "markdown",
   "metadata": {},
   "source": [
    "Now we have the final submission csv file `final_submission.csv` in the current path."
   ]
  },
  {
   "cell_type": "markdown",
   "metadata": {},
   "source": [
    "This subnmission has a public score of 0.82379 in the Kaggle Competition and ranks 19/137 for now (21:13, 6/11/2023)."
   ]
  }
 ],
 "metadata": {
  "anaconda-cloud": {},
  "kernelspec": {
   "display_name": "Python 3 (ipykernel)",
   "language": "python",
   "name": "python3"
  },
  "language_info": {
   "codemirror_mode": {
    "name": "ipython",
    "version": 3
   },
   "file_extension": ".py",
   "mimetype": "text/x-python",
   "name": "python",
   "nbconvert_exporter": "python",
   "pygments_lexer": "ipython3",
   "version": "3.9.12"
  },
  "toc": {
   "base_numbering": 1,
   "nav_menu": {},
   "number_sections": true,
   "sideBar": true,
   "skip_h1_title": false,
   "title_cell": "Table of Contents",
   "title_sidebar": "Contents",
   "toc_cell": false,
   "toc_position": {},
   "toc_section_display": true,
   "toc_window_display": false
  }
 },
 "nbformat": 4,
 "nbformat_minor": 1
}
